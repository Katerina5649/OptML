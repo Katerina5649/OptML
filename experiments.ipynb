{
 "cells": [
  {
   "cell_type": "code",
   "execution_count": null,
   "id": "45a4e186",
   "metadata": {},
   "outputs": [],
   "source": [
    "import numpy as np\n",
    "import matplotlib.pyplot as plt\n",
    "from oracle import Oracle\n",
    "from accuracy_test import accuracy_check, accuracy_check_iter, accuracy_check_err\n",
    "import time"
   ]
  },
  {
   "cell_type": "code",
   "execution_count": null,
   "id": "bd9dc0f8",
   "metadata": {
    "tags": []
   },
   "outputs": [],
   "source": [
    "def decentralizedSGD(x0, lr, max_iter, eps, W, oracle):\n",
    "    \n",
    "    x_t = x0\n",
    "    x_prev = x0\n",
    "    \n",
    "    itr = 0\n",
    "    error = np.inf\n",
    "    current_sum = 0.\n",
    "    \n",
    "    errors = []\n",
    "    \n",
    "    x_star, _ = oracle.getMin()\n",
    "    \n",
    "    while (itr < max_iter) and (error > eps):\n",
    "         \n",
    "        noise = np.random.normal(0, 1, size=x_t.shape) / 100\n",
    "        \n",
    "        f, df = oracle(x_t + noise)\n",
    "        \n",
    "        x_prev = x_t\n",
    "        \n",
    "        y_t = x_t - lr * df\n",
    "        x_t = y_t @ W\n",
    "        \n",
    "        if (oracle.getType() == \"strongly convex\") and (itr > 0):\n",
    "            err, sum_ = accuracy_check_iter(x_prev, current_sum, itr, oracle, x_t)\n",
    "            error = err\n",
    "            current_sum = sum_\n",
    "            errors.append(error)\n",
    "        elif (oracle.getType() != \"strongly convex\"):\n",
    "            err, sum_ = accuracy_check_iter(x_t, current_sum, itr, oracle)\n",
    "            error = err\n",
    "            current_sum = sum_\n",
    "            errors.append(error)\n",
    "        #error = accuracy_check_err(x_t, x_star)\n",
    "        #errors.append(error)\n",
    "        \n",
    "        itr += 1\n",
    "        \n",
    "    return x_t, itr, errors\n",
    "\n",
    "def MetropolisHastings(W):\n",
    "    \n",
    "    degrees = np.sum(W, axis=1)\n",
    "    \n",
    "    for i in range(W.shape[0]):\n",
    "        for j in range(i+1, W.shape[0]):\n",
    "            \n",
    "            if W[i, j] != 0:\n",
    "                \n",
    "                weight = 1 / (1 + max(degrees[i], degrees[j]))\n",
    "                \n",
    "                W[i, j] = weight\n",
    "                W[j, i] = weight\n",
    "    \n",
    "    for i in range(W.shape[0]):\n",
    "        W[i, i] = 1 - (np.sum(W, axis = 0)[i] - 1.0) # Remove 1 because counts self weight of 1 from adjacency matrix W\n",
    "                \n",
    "    return W\n",
    "\n",
    "\n",
    "def toMatrix(n_nodes, adj_list):\n",
    "    \n",
    "    matrix = np.zeros((n_nodes, n_nodes))\n",
    "    \n",
    "    for node in adj_list:\n",
    "        \n",
    "        neighbors = adj_list[node]\n",
    "        \n",
    "        for neighbor in neighbors:\n",
    "            \n",
    "            matrix[node, neighbor] = 1\n",
    "            matrix[neighbor, node] = 1\n",
    "            \n",
    "    return matrix.astype(np.float64)\n",
    "\n",
    "\n",
    "def buildTopology(n_nodes, topology):\n",
    "    \n",
    "    if topology == \"dense\":\n",
    "        \n",
    "        W = np.ones((n_nodes, n_nodes))\n",
    "\n",
    "        return MetropolisHastings(W.astype(np.float64))\n",
    "    \n",
    "    elif topology == \"ring\":\n",
    "        \n",
    "        connections = {} # adjacency list\n",
    "        \n",
    "        for node in range(n_nodes):\n",
    "            \n",
    "            if node == n_nodes - 1:\n",
    "                connections[node] = [node, 0]\n",
    "            else:\n",
    "                connections[node] = [node, node + 1]\n",
    "        \n",
    "        W = toMatrix(n_nodes, connections)\n",
    "        \n",
    "        return MetropolisHastings(W)\n",
    "    \n",
    "    elif topology == \"centralized\":\n",
    "        \n",
    "        connections = {} # adjacency list\n",
    "        \n",
    "        connections[0] = [0]\n",
    "        for node in range(1, n_nodes):\n",
    "            connections[node] = [node, 0] # node 0 is central node\n",
    "            \n",
    "        W = toMatrix(n_nodes, connections)\n",
    "        \n",
    "        return MetropolisHastings(W)\n",
    "    \n",
    "    else:\n",
    "        print(\"Wrong topology\")\n",
    "        \n",
    "\n",
    "def experiment(list_nodes, n_params, topology, func_type, max_iter, lr, error_threshold, number_exp = 10):\n",
    "    \n",
    "    means = []\n",
    "    results = []\n",
    "    \n",
    "    oracle = Oracle(func_type, n_params)\n",
    "    \n",
    "    for n_nodes in list_nodes:\n",
    "        start = time.time()\n",
    "        \n",
    "        print(\"Starting experiment on {} nodes.\".format(n_nodes))\n",
    "        \n",
    "        temp = []\n",
    "        \n",
    "        for _ in range(number_exp): # Do average\n",
    "            \n",
    "            x0 = np.ones((n_params, n_nodes)).astype(np.float64) #np.random.randn(n_params, n_nodes)\n",
    "            W = buildTopology(n_nodes, topology)\n",
    "            \n",
    "            x_t, itr, errors = decentralizedSGD(x0, lr, max_iter, error_threshold, W, oracle)\n",
    "\n",
    "            temp.append(itr)\n",
    "        \n",
    "        mean = np.mean(temp)\n",
    "        \n",
    "        print(f'DEBUG num.nides {n_nodes} time {time.time() - start}')\n",
    "        print(\"Converged within {} in {} iterations on average.\".format(error_threshold, mean))\n",
    "        print()\n",
    "        \n",
    "        means.append(mean)\n",
    "        results.append(temp)\n",
    "    \n",
    "    return np.array(means), np.array(results)\n",
    "    \n",
    "\n",
    "def plotIter(num_nodes, iters):\n",
    "    \n",
    "    plt.plot(num_nodes, iters)\n",
    "    plt.xlabel(\"Number of nodes\")\n",
    "    plt.ylabel(\"Number of iterations\")\n",
    "    plt.show()"
   ]
  },
  {
   "cell_type": "markdown",
   "id": "0c9590ba-eee3-4a87-85ac-52cbe9fcd035",
   "metadata": {},
   "source": [
    "# Experiments"
   ]
  },
  {
   "cell_type": "code",
   "execution_count": null,
   "id": "3710b5f5-f66a-4b5b-8c2b-616306101e27",
   "metadata": {},
   "outputs": [],
   "source": [
    "save_folder = \"data/\"\n",
    "\n",
    "n_params = 8\n",
    "max_iter = np.inf\n",
    "number_exp = 5\n",
    "\n",
    "num_nodes = list(range(2, 1004, 200))"
   ]
  },
  {
   "cell_type": "markdown",
   "id": "0b030d44-a2c3-4309-8849-3ccfc2ddee82",
   "metadata": {
    "tags": []
   },
   "source": [
    "## Non convex function"
   ]
  },
  {
   "cell_type": "code",
   "execution_count": null,
   "id": "511647bc-622c-4d7d-ae6c-9d35b069d68b",
   "metadata": {},
   "outputs": [],
   "source": [
    "func_type = \"non convex\""
   ]
  },
  {
   "cell_type": "code",
   "execution_count": null,
   "id": "af37fe1c-1914-4825-b092-1a92d4448486",
   "metadata": {},
   "outputs": [],
   "source": [
    "topology = \"dense\"\n",
    "lr = 1e-1\n",
    "threshold = 1e-3\n",
    "\n",
    "means, results = experiment(num_nodes, n_params, topology, func_type, max_iter, lr, threshold, number_exp)\n",
    "\n",
    "plotIter(num_nodes, means)\n",
    "\n",
    "filename = save_folder + func_type.replace(\" \", \"\") + \"_\" + topology + \".npy\"\n",
    "print(filename)\n",
    "\n",
    "with open(filename, 'wb') as f:\n",
    "    np.save(f, results)"
   ]
  },
  {
   "cell_type": "code",
   "execution_count": null,
   "id": "c0724da8-de29-4f4f-8ad0-2346cf7a250d",
   "metadata": {},
   "outputs": [],
   "source": [
    "topology = \"ring\"\n",
    "lr = 1e-1\n",
    "threshold = 1e-3\n",
    "\n",
    "means, results = experiment(num_nodes, n_params, topology, func_type, max_iter, lr, threshold, number_exp)\n",
    "\n",
    "plotIter(num_nodes, means)\n",
    "\n",
    "filename = save_folder + func_type.replace(\" \", \"\") + \"_\" + topology + \".npy\"\n",
    "print(filename)\n",
    "\n",
    "with open(filename, 'wb') as f:\n",
    "    np.save(f, results)"
   ]
  },
  {
   "cell_type": "code",
   "execution_count": null,
   "id": "aad57c3c-8bcd-4387-b51b-a138f6d19237",
   "metadata": {},
   "outputs": [],
   "source": [
    "topology = \"centralized\"\n",
    "lr = 1e-1\n",
    "threshold = 1e-3\n",
    "\n",
    "means, results = experiment(num_nodes, n_params, topology, func_type, max_iter, lr, threshold, number_exp)\n",
    "\n",
    "plotIter(num_nodes, means)\n",
    "\n",
    "filename = save_folder + func_type.replace(\" \", \"\") + \"_\" + topology + \".npy\"\n",
    "print(filename)\n",
    "\n",
    "with open(filename, 'wb') as f:\n",
    "    np.save(f, results)"
   ]
  },
  {
   "cell_type": "markdown",
   "id": "f25a1f65-640a-463a-8eee-a0d3bf8e7e3e",
   "metadata": {
    "tags": []
   },
   "source": [
    "## Convex function"
   ]
  },
  {
   "cell_type": "code",
   "execution_count": null,
   "id": "9185b592-76f5-48b2-b75b-456dbda6dc13",
   "metadata": {},
   "outputs": [],
   "source": [
    "func_type = \"convex\""
   ]
  },
  {
   "cell_type": "code",
   "execution_count": null,
   "id": "1b958dee-5ead-48ac-beb5-f5910797bba7",
   "metadata": {},
   "outputs": [],
   "source": [
    "topology = \"dense\"\n",
    "lr = 1e-1\n",
    "threshold = 1e-2\n",
    "\n",
    "means, results = experiment(num_nodes, n_params, topology, func_type, max_iter, lr, threshold, number_exp)\n",
    "\n",
    "plotIter(num_nodes, means)\n",
    "\n",
    "filename = save_folder + func_type.replace(\" \", \"\") + \"_\" + topology + \".npy\"\n",
    "print(filename)\n",
    "\n",
    "with open(filename, 'wb') as f:\n",
    "    np.save(f, results)"
   ]
  },
  {
   "cell_type": "code",
   "execution_count": null,
   "id": "828534b1-833c-433b-9153-0c25c618873d",
   "metadata": {},
   "outputs": [],
   "source": [
    "topology = \"ring\"\n",
    "lr = 1e-1\n",
    "threshold = 1e-2\n",
    "\n",
    "means, results = experiment(num_nodes, n_params, topology, func_type, max_iter, lr, threshold, number_exp)\n",
    "\n",
    "plotIter(num_nodes, means)\n",
    "\n",
    "filename = save_folder + func_type.replace(\" \", \"\") + \"_\" + topology + \".npy\"\n",
    "print(filename)\n",
    "\n",
    "with open(filename, 'wb') as f:\n",
    "    np.save(f, results)"
   ]
  },
  {
   "cell_type": "code",
   "execution_count": null,
   "id": "85819ab2-eb3c-401e-acdc-c8ac08b9285f",
   "metadata": {},
   "outputs": [],
   "source": [
    "topology = \"centralized\"\n",
    "lr = 1e-1\n",
    "threshold = 1e-2\n",
    "\n",
    "means, results = experiment(num_nodes, n_params, topology, func_type, max_iter, lr, threshold, number_exp)\n",
    "\n",
    "plotIter(num_nodes, means)\n",
    "\n",
    "filename = save_folder + func_type.replace(\" \", \"\") + \"_\" + topology + \".npy\"\n",
    "print(filename)\n",
    "\n",
    "with open(filename, 'wb') as f:\n",
    "    np.save(f, results)"
   ]
  },
  {
   "cell_type": "markdown",
   "id": "da1427d6-04c5-4c02-b284-591ab4131288",
   "metadata": {
    "tags": []
   },
   "source": [
    "## Strongly convex function"
   ]
  },
  {
   "cell_type": "code",
   "execution_count": null,
   "id": "f13c4a35-f9cc-406f-b6b8-ed6a5f9149fa",
   "metadata": {},
   "outputs": [],
   "source": [
    "func_type = \"convex\""
   ]
  },
  {
   "cell_type": "code",
   "execution_count": null,
   "id": "d9a66a6f-dcb5-42f6-87d5-2999afd3ea47",
   "metadata": {},
   "outputs": [],
   "source": [
    "topology = \"dense\"\n",
    "lr = 1e-1\n",
    "threshold = 1e-2\n",
    "\n",
    "means, results = experiment(num_nodes, n_params, topology, func_type, max_iter, lr, threshold, number_exp)\n",
    "\n",
    "plotIter(num_nodes, means)\n",
    "\n",
    "filename = save_folder + func_type.replace(\" \", \"\") + \"_\" + topology + \".npy\"\n",
    "print(filename)\n",
    "\n",
    "with open(filename, 'wb') as f:\n",
    "    np.save(f, results)"
   ]
  },
  {
   "cell_type": "code",
   "execution_count": null,
   "id": "50a50030-3ff6-4d9d-b19d-849cfdf21802",
   "metadata": {},
   "outputs": [],
   "source": [
    "topology = \"ring\"\n",
    "lr = 1e-1\n",
    "threshold = 1e-2\n",
    "\n",
    "means, results = experiment(num_nodes, n_params, topology, func_type, max_iter, lr, threshold, number_exp)\n",
    "\n",
    "plotIter(num_nodes, means)\n",
    "\n",
    "filename = save_folder + func_type.replace(\" \", \"\") + \"_\" + topology + \".npy\"\n",
    "print(filename)\n",
    "\n",
    "with open(filename, 'wb') as f:\n",
    "    np.save(f, results)"
   ]
  },
  {
   "cell_type": "code",
   "execution_count": null,
   "id": "4a18f46e-f54c-40d0-b5d1-53c5c35a888f",
   "metadata": {},
   "outputs": [],
   "source": [
    "topology = \"centralized\"\n",
    "lr = 1e-1\n",
    "threshold = 1e-2\n",
    "\n",
    "means, results = experiment(num_nodes, n_params, topology, func_type, max_iter, lr, threshold, number_exp)\n",
    "\n",
    "plotIter(num_nodes, means)\n",
    "\n",
    "filename = save_folder + func_type.replace(\" \", \"\") + \"_\" + topology + \".npy\"\n",
    "print(filename)\n",
    "\n",
    "with open(filename, 'wb') as f:\n",
    "    np.save(f, results)"
   ]
  }
 ],
 "metadata": {
  "kernelspec": {
   "display_name": "Python 3 (ipykernel)",
   "language": "python",
   "name": "python3"
  },
  "language_info": {
   "codemirror_mode": {
    "name": "ipython",
    "version": 3
   },
   "file_extension": ".py",
   "mimetype": "text/x-python",
   "name": "python",
   "nbconvert_exporter": "python",
   "pygments_lexer": "ipython3",
   "version": "3.9.10"
  }
 },
 "nbformat": 4,
 "nbformat_minor": 5
}
