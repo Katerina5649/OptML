{
 "cells": [
  {
   "cell_type": "code",
   "execution_count": 1,
   "metadata": {},
   "outputs": [],
   "source": [
    "import numpy as np\n",
    "import matplotlib.pyplot as plt\n",
    "from oracle import Oracle\n",
    "from accuracy_test import accuracy_check, accuracy_check_iter\n",
    "import time"
   ]
  },
  {
   "cell_type": "code",
   "execution_count": 32,
   "metadata": {
    "tags": []
   },
   "outputs": [],
   "source": [
    "def decentralizedSGD(x0, lr, max_iter, eps, W, oracle):\n",
    "    x_t = x0\n",
    "    x_prev = x0\n",
    "    \n",
    "    itr = 0\n",
    "    error = np.inf\n",
    "    current_sum = 0.\n",
    "    \n",
    "    errors = []\n",
    "    \n",
    "    while (itr < max_iter) and (error > eps):\n",
    "         \n",
    "        noise = np.random.normal(0, 1, size=x_t.shape) / 100\n",
    "        \n",
    "        f, df = oracle(x_t + noise)\n",
    "        \n",
    "        x_prev = x_t\n",
    "        \n",
    "        y_t = x_t - lr * df\n",
    "        x_t = y_t @ W\n",
    "        \n",
    "        \n",
    "        if (oracle.getType() == \"strongly convex\") and (itr > 0):\n",
    "            err, sum_ = accuracy_check_iter(x_prev, current_sum, itr, oracle, x_t)\n",
    "            error = err\n",
    "            current_sum = sum_\n",
    "            errors.append(error)\n",
    "        elif (oracle.getType() != \"strongly convex\"):\n",
    "            err, sum_ = accuracy_check_iter(x_t, current_sum, itr, oracle)\n",
    "            error = err\n",
    "            current_sum = sum_\n",
    "            errors.append(error)\n",
    "        \n",
    "\n",
    "        itr += 1\n",
    "        \n",
    "    return itr, errors\n",
    "\n",
    "def MetropolisHastings(W):\n",
    "    \n",
    "    degrees = np.sum(W, axis=1)\n",
    "    \n",
    "    for i in range(W.shape[0]):\n",
    "        for j in range(i, W.shape[0]):\n",
    "            \n",
    "            if W[i, j] != 0:\n",
    "                \n",
    "                weight = min(1 / (degrees[i] + 1), 1 / (degrees[j] + 1))\n",
    "                \n",
    "                W[i, j] = weight\n",
    "                W[j, i] = weight\n",
    "    for i in range(W.shape[0]):\n",
    "        W[i, i] = 1 - np.sum(W, axis = 0)[i]\n",
    "                \n",
    "    return W\n",
    "\n",
    "\n",
    "def toMatrix(n_nodes, adj_list):\n",
    "    \n",
    "    matrix = np.zeros((n_nodes, n_nodes))\n",
    "    \n",
    "    for node in adj_list:\n",
    "        \n",
    "        neighbors = adj_list[node]\n",
    "        \n",
    "        for neighbor in neighbors:\n",
    "            \n",
    "            matrix[node, neighbor] = 1\n",
    "            matrix[neighbor, node] = 1\n",
    "            \n",
    "    return matrix.astype(np.float64)\n",
    "\n",
    "\n",
    "def buildTopology(n_nodes, topology):\n",
    "    \n",
    "    if topology == \"dense\":\n",
    "        \n",
    "        W = np.ones((n_nodes, n_nodes))\n",
    "        \n",
    "        for i in range(n_nodes):\n",
    "            W[i, i] = 0\n",
    "            \n",
    "        return MetropolisHastings(W.astype(np.float64))\n",
    "    \n",
    "    elif topology == \"ring\":\n",
    "        \n",
    "        connections = {} # adjacency list\n",
    "        \n",
    "        for node in range(n_nodes):\n",
    "            \n",
    "            if node == n_nodes - 1:\n",
    "                connections[node] = [0]\n",
    "            else:\n",
    "                connections[node] = [node + 1]\n",
    "        \n",
    "        W = toMatrix(n_nodes, connections)\n",
    "        \n",
    "        return MetropolisHastings(W)\n",
    "    \n",
    "    elif topology == \"centralized\":\n",
    "        \n",
    "        connections = {} # adjacency list\n",
    "        \n",
    "        for node in range(1, n_nodes):\n",
    "            connections[node] = [0] # node 0 is central node\n",
    "            \n",
    "        W = toMatrix(n_nodes, connections)\n",
    "        \n",
    "        return MetropolisHastings(W)\n",
    "    \n",
    "    else:\n",
    "        print(\"Wrong topology\")\n",
    "        \n",
    "\n",
    "def experiment(list_nodes, n_params, topology, func_type, max_iter, lr, error_threshold, number_exp = 10):\n",
    "    \n",
    "    results = []\n",
    "    #results_error = []\n",
    "    \n",
    "    for n_nodes in list_nodes:\n",
    "        start = time.time()\n",
    "        \n",
    "        print(\"Starting experiment on {} nodes.\".format(n_nodes))\n",
    "        \n",
    "        temp = []\n",
    "        #temp_err = []\n",
    "        \n",
    "        for _ in range(number_exp): # Do average\n",
    "            \n",
    "            x0 = np.ones((n_params, n_nodes)).astype(np.float64) #np.random.randn(n_params, n_nodes)\n",
    "            W = buildTopology(n_nodes, topology)\n",
    "            \n",
    "            oracle = Oracle(func_type, n_params, n_nodes)\n",
    "\n",
    "            itr, errors = decentralizedSGD(x0, lr, max_iter, error_threshold, W, oracle)\n",
    "\n",
    "            temp.append(itr)\n",
    "            #temp_err.append(errors)\n",
    "        \n",
    "        mean = np.mean(temp)\n",
    "        #mean_err = np.mean(temp_err, axis=0)\n",
    "        print(\"Converged within {} in {} iterations on average.\".format(error_threshold, mean))\n",
    "        print()\n",
    "        \n",
    "        results.append(mean)\n",
    "        print(f'DEBUG num.nides {n_nodes} time {time.time() - start}')\n",
    "        #results_error.append(mean_err)\n",
    "    \n",
    "    return np.array(results)#, np.array(results_error)\n",
    "    \n",
    "\n",
    "def plotIter(num_nodes, iters):\n",
    "    \n",
    "    plt.plot(num_nodes, iters)\n",
    "    plt.xlabel(\"Number of nodes\")\n",
    "    plt.ylabel(\"Number of iterations\")\n",
    "    plt.show()"
   ]
  },
  {
   "cell_type": "code",
   "execution_count": 37,
   "metadata": {},
   "outputs": [
    {
     "name": "stdout",
     "output_type": "stream",
     "text": [
      "Starting experiment on 2 nodes.\n",
      "Converged within 0.01 in 1797.0 iterations on average.\n",
      "\n",
      "DEBUG num.nides 2 time 1.7174592018127441\n",
      "Starting experiment on 5 nodes.\n",
      "Converged within 0.01 in 1782.0 iterations on average.\n",
      "\n",
      "DEBUG num.nides 5 time 2.011375904083252\n",
      "Starting experiment on 10 nodes.\n",
      "Converged within 0.01 in 1782.0 iterations on average.\n",
      "\n",
      "DEBUG num.nides 10 time 3.004938840866089\n",
      "Starting experiment on 100 nodes.\n",
      "Converged within 0.01 in 1779.0 iterations on average.\n",
      "\n",
      "DEBUG num.nides 100 time 9.24926495552063\n",
      "Starting experiment on 1000 nodes.\n",
      "Converged within 0.01 in 1778.0 iterations on average.\n",
      "\n",
      "DEBUG num.nides 1000 time 79.29344081878662\n"
     ]
    },
    {
     "data": {
      "image/png": "[encoded data removed]",
      "text/plain": [
       "<Figure size 432x288 with 1 Axes>"
      ]
     },
     "metadata": {
      "needs_background": "light"
     },
     "output_type": "display_data"
    }
   ],
   "source": [
    "n_params = 10\n",
    "topology = \"dense\"\n",
    "func_type = \"strongly convex\"\n",
    "max_iter = np.inf\n",
    "lr = 1e-1\n",
    "threshold = 1e-2\n",
    "\n",
    "num_nodes = [2, 5, 10, 100, 1000]#list(range(2, 100, 20))\n",
    "\n",
    "results = experiment(num_nodes, n_params, topology, func_type, max_iter, lr, threshold, number_exp = 1)\n",
    "\n",
    "plotIter(num_nodes, results)"
   ]
  },
  {
   "cell_type": "code",
   "execution_count": 10,
   "metadata": {},
   "outputs": [
    {
     "data": {
      "text/plain": [
       "array([[0. , 0.2, 0.2, 0.2, 0.2],\n",
       "       [0.2, 0. , 0.2, 0.2, 0.2],\n",
       "       [0.2, 0.2, 0. , 0.2, 0.2],\n",
       "       [0.2, 0.2, 0.2, 0. , 0.2],\n",
       "       [0.2, 0.2, 0.2, 0.2, 0. ]])"
      ]
     },
     "execution_count": 10,
     "metadata": {},
     "output_type": "execute_result"
    }
   ],
   "source": [
    "MetropolisHastings(buildTopology(5, \"dense\"))"
   ]
  },
  {
   "cell_type": "code",
   "execution_count": 31,
   "metadata": {},
   "outputs": [
    {
     "data": {
      "text/plain": [
       "1655365234.729072"
      ]
     },
     "execution_count": 31,
     "metadata": {},
     "output_type": "execute_result"
    }
   ],
   "source": [
    "import time\n",
    "time.time()"
   ]
  },
  {
   "cell_type": "code",
   "execution_count": null,
   "metadata": {},
   "outputs": [],
   "source": []
  },
  {
   "cell_type": "code",
   "execution_count": null,
   "metadata": {},
   "outputs": [],
   "source": []
  }
 ],
 "metadata": {
  "kernelspec": {
   "display_name": "Python 3",
   "language": "python",
   "name": "python3"
  }
 },
 "nbformat": 4,
 "nbformat_minor": 5
}
