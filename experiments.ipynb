{
 "cells": [
  {
   "cell_type": "code",
   "execution_count": 1,
   "id": "45a4e186",
   "metadata": {},
   "outputs": [],
   "source": [
    "import numpy as np\n",
    "import matplotlib.pyplot as plt\n",
    "from oracle import Oracle\n",
    "from accuracy_test import accuracy_check, accuracy_check_iter, accuracy_check_err\n",
    "import time"
   ]
  },
  {
   "cell_type": "code",
   "execution_count": 2,
   "id": "bd9dc0f8",
   "metadata": {
    "tags": []
   },
   "outputs": [],
   "source": [
    "def decentralizedSGD(x0, lr, max_iter, eps, W, oracle):\n",
    "    \n",
    "    x_t = x0\n",
    "    x_prev = x0\n",
    "    \n",
    "    itr = 0\n",
    "    error = np.inf\n",
    "    current_sum = 0.\n",
    "    \n",
    "    errors = []\n",
    "    \n",
    "    x_star, _ = oracle.getMin()\n",
    "    \n",
    "    while (itr < max_iter) and (error > eps):\n",
    "         \n",
    "        noise = np.random.normal(0, 1, size=x_t.shape) / 100\n",
    "        \n",
    "        f, df = oracle(x_t + noise)\n",
    "        \n",
    "        x_prev = x_t\n",
    "        \n",
    "        y_t = x_t - lr * df\n",
    "        x_t = y_t @ W\n",
    "        \n",
    "        '''\n",
    "        if (oracle.getType() == \"strongly convex\") and (itr > 0):\n",
    "            err, sum_ = accuracy_check_iter(x_prev, current_sum, itr, oracle, x_t)\n",
    "            error = err\n",
    "            current_sum = sum_\n",
    "            errors.append(error)\n",
    "        elif (oracle.getType() != \"strongly convex\"):\n",
    "            err, sum_ = accuracy_check_iter(x_t, current_sum, itr, oracle)\n",
    "            error = err\n",
    "            current_sum = sum_\n",
    "            errors.append(error)\n",
    "        '''\n",
    "        \n",
    "        error = accuracy_check_err(x_t, x_star)\n",
    "        errors.append(error)\n",
    "         \n",
    "        itr += 1\n",
    "        \n",
    "    return x_t, itr, errors\n",
    "\n",
    "def MetropolisHastings(W):\n",
    "    \n",
    "    degrees = np.sum(W, axis=1)\n",
    "    \n",
    "    for i in range(W.shape[0]):\n",
    "        for j in range(i+1, W.shape[0]):\n",
    "            \n",
    "            if W[i, j] != 0:\n",
    "                \n",
    "                weight = 1 / (1 + max(degrees[i], degrees[j]))\n",
    "                \n",
    "                W[i, j] = weight\n",
    "                W[j, i] = weight\n",
    "    \n",
    "    for i in range(W.shape[0]):\n",
    "        if W[i, i] != 0:\n",
    "            W[i, i] = 1 - (np.sum(W, axis = 0)[i] - 1.0) # Remove 1 because counts self weight of 1 from adjacency matrix W\n",
    "                \n",
    "    return W\n",
    "\n",
    "\n",
    "def toMatrix(n_nodes, adj_list):\n",
    "    \n",
    "    matrix = np.zeros((n_nodes, n_nodes))\n",
    "    \n",
    "    for node in adj_list:\n",
    "        \n",
    "        neighbors = adj_list[node]\n",
    "        \n",
    "        for neighbor in neighbors:\n",
    "            \n",
    "            matrix[node, neighbor] = 1\n",
    "            matrix[neighbor, node] = 1\n",
    "            \n",
    "    return matrix.astype(np.float64)\n",
    "\n",
    "\n",
    "def buildTopology(n_nodes, topology):\n",
    "    \n",
    "    if topology == \"dense\":\n",
    "        \n",
    "        W = np.ones((n_nodes, n_nodes))\n",
    "\n",
    "        return MetropolisHastings(W.astype(np.float64))\n",
    "    \n",
    "    elif topology == \"ring\":\n",
    "        \n",
    "        connections = {} # adjacency list\n",
    "        \n",
    "        for node in range(n_nodes):\n",
    "            \n",
    "            if node == n_nodes - 1:\n",
    "                connections[node] = [node, 0]\n",
    "            else:\n",
    "                connections[node] = [node, node + 1]\n",
    "        \n",
    "        W = toMatrix(n_nodes, connections)\n",
    "        \n",
    "        return MetropolisHastings(W)\n",
    "    \n",
    "    elif topology == \"centralized\":\n",
    "        \n",
    "        connections = {} # adjacency list\n",
    "        \n",
    "        connections[0] = [0]\n",
    "        for node in range(1, n_nodes):\n",
    "            connections[node] = [node, 0] # node 0 is central node\n",
    "        \n",
    "        W = toMatrix(n_nodes, connections)\n",
    "        \n",
    "        return MetropolisHastings(W)\n",
    "    \n",
    "    elif topology == \"path\":\n",
    "        \n",
    "        connections = {} # adjacency list\n",
    "        \n",
    "        for node in range(n_nodes):\n",
    "            \n",
    "            if node != n_nodes - 1:\n",
    "                connections[node] = [node, node + 1]\n",
    "            else:\n",
    "                connections[node] = [node]\n",
    "        \n",
    "        W = toMatrix(n_nodes, connections)\n",
    "        \n",
    "        return MetropolisHastings(W)\n",
    "    \n",
    "    else:\n",
    "        print(\"Wrong topology\")\n",
    "        \n",
    "\n",
    "def experiment(list_nodes, n_params, topology, func_type, max_iter, lr, error_threshold, number_exp = 10):\n",
    "    \n",
    "    means = []\n",
    "    results = []\n",
    "    \n",
    "    oracle = Oracle(func_type, n_params)\n",
    "    \n",
    "    for n_nodes in list_nodes:\n",
    "        start = time.time()\n",
    "        \n",
    "        print(\"Starting experiment on {} nodes.\".format(n_nodes))\n",
    "        \n",
    "        temp = []\n",
    "        \n",
    "        for _ in range(number_exp): # Do average\n",
    "            \n",
    "            x0 = np.ones((n_params, n_nodes)).astype(np.float64) #np.random.randn(n_params, n_nodes)\n",
    "            W = buildTopology(n_nodes, topology)\n",
    "            \n",
    "            x_t, itr, errors = decentralizedSGD(x0, lr, max_iter, error_threshold, W, oracle)\n",
    "\n",
    "            temp.append(itr)\n",
    "        \n",
    "        mean = np.mean(temp)\n",
    "        \n",
    "        print(f'DEBUG num.nides {n_nodes} time {time.time() - start}')\n",
    "        print(\"Converged within {} in {} iterations on average.\".format(error_threshold, mean))\n",
    "        print()\n",
    "        \n",
    "        means.append(mean)\n",
    "        results.append(temp)\n",
    "    \n",
    "    return np.array(means), np.array(results)\n",
    "    \n",
    "\n",
    "def plotIter(num_nodes, iters):\n",
    "    \n",
    "    plt.plot(num_nodes, iters)\n",
    "    plt.xlabel(\"Number of nodes\")\n",
    "    plt.ylabel(\"Number of iterations\")\n",
    "    plt.show()"
   ]
  },
  {
   "cell_type": "markdown",
   "id": "0c9590ba-eee3-4a87-85ac-52cbe9fcd035",
   "metadata": {},
   "source": [
    "# Experiments"
   ]
  },
  {
   "cell_type": "code",
   "execution_count": 3,
   "id": "3710b5f5-f66a-4b5b-8c2b-616306101e27",
   "metadata": {},
   "outputs": [],
   "source": [
    "save_folder = \"data/\"\n",
    "\n",
    "n_params = 10\n",
    "max_iter = np.inf\n",
    "number_exp = 5\n",
    "\n",
    "num_nodes = [2, 10, 50, 100, 300, 600, 1000, 1200]"
   ]
  },
  {
   "cell_type": "markdown",
   "id": "0b030d44-a2c3-4309-8849-3ccfc2ddee82",
   "metadata": {
    "tags": []
   },
   "source": [
    "## Non convex function"
   ]
  },
  {
   "cell_type": "code",
   "execution_count": 4,
   "id": "511647bc-622c-4d7d-ae6c-9d35b069d68b",
   "metadata": {},
   "outputs": [],
   "source": [
    "func_type = \"non convex\""
   ]
  },
  {
   "cell_type": "code",
   "execution_count": 5,
   "id": "af37fe1c-1914-4825-b092-1a92d4448486",
   "metadata": {},
   "outputs": [
    {
     "name": "stdout",
     "output_type": "stream",
     "text": [
      "Starting experiment on 2 nodes.\n",
      "DEBUG num.nides 2 time 0.052110910415649414\n",
      "Converged within 1e-05 in 158.6 iterations on average.\n",
      "\n",
      "Starting experiment on 10 nodes.\n",
      "DEBUG num.nides 10 time 0.01985621452331543\n",
      "Converged within 1e-05 in 71.0 iterations on average.\n",
      "\n",
      "Starting experiment on 50 nodes.\n",
      "DEBUG num.nides 50 time 0.08078598976135254\n",
      "Converged within 1e-05 in 69.6 iterations on average.\n",
      "\n",
      "Starting experiment on 100 nodes.\n",
      "DEBUG num.nides 100 time 0.14462900161743164\n",
      "Converged within 1e-05 in 69.0 iterations on average.\n",
      "\n",
      "Starting experiment on 300 nodes.\n",
      "DEBUG num.nides 300 time 0.4391508102416992\n",
      "Converged within 1e-05 in 68.8 iterations on average.\n",
      "\n",
      "Starting experiment on 600 nodes.\n",
      "DEBUG num.nides 600 time 2.0226199626922607\n",
      "Converged within 1e-05 in 69.0 iterations on average.\n",
      "\n",
      "Starting experiment on 1000 nodes.\n",
      "DEBUG num.nides 1000 time 6.621642827987671\n",
      "Converged within 1e-05 in 68.8 iterations on average.\n",
      "\n",
      "Starting experiment on 1200 nodes.\n",
      "DEBUG num.nides 1200 time 10.649955749511719\n",
      "Converged within 1e-05 in 69.0 iterations on average.\n",
      "\n"
     ]
    },
    {
     "data": {
      "image/png": "[encoded data removed]",
      "text/plain": [
       "<Figure size 432x288 with 1 Axes>"
      ]
     },
     "metadata": {
      "needs_background": "light"
     },
     "output_type": "display_data"
    },
    {
     "name": "stdout",
     "output_type": "stream",
     "text": [
      "data/nonconvex_dense.npy\n"
     ]
    }
   ],
   "source": [
    "topology = \"dense\"\n",
    "lr = 1e-1\n",
    "threshold = 1e-5\n",
    "\n",
    "means, results = experiment(num_nodes, n_params, topology, func_type, max_iter, lr, threshold, number_exp)\n",
    "\n",
    "plotIter(num_nodes, means)\n",
    "\n",
    "filename = save_folder + func_type.replace(\" \", \"\") + \"_\" + topology + \".npy\"\n",
    "print(filename)\n",
    "\n",
    "with open(filename, 'wb') as f:\n",
    "    np.save(f, results)"
   ]
  },
  {
   "cell_type": "code",
   "execution_count": 21,
   "id": "c0724da8-de29-4f4f-8ad0-2346cf7a250d",
   "metadata": {},
   "outputs": [
    {
     "name": "stdout",
     "output_type": "stream",
     "text": [
      "Starting experiment on 2 nodes.\n",
      "DEBUG num.nides 2 time 0.3692290782928467\n",
      "Converged within 1e-05 in 155.8 iterations on average.\n",
      "\n",
      "Starting experiment on 10 nodes.\n",
      "DEBUG num.nides 10 time 0.5524649620056152\n",
      "Converged within 1e-05 in 137.8 iterations on average.\n",
      "\n",
      "Starting experiment on 50 nodes.\n",
      "DEBUG num.nides 50 time 2.5502419471740723\n",
      "Converged within 1e-05 in 140.2 iterations on average.\n",
      "\n",
      "Starting experiment on 100 nodes.\n",
      "DEBUG num.nides 100 time 4.907481670379639\n",
      "Converged within 1e-05 in 140.2 iterations on average.\n",
      "\n",
      "Starting experiment on 300 nodes.\n",
      "DEBUG num.nides 300 time 14.024363994598389\n",
      "Converged within 1e-05 in 140.0 iterations on average.\n",
      "\n",
      "Starting experiment on 600 nodes.\n",
      "DEBUG num.nides 600 time 24.952467918395996\n",
      "Converged within 1e-05 in 139.6 iterations on average.\n",
      "\n",
      "Starting experiment on 1000 nodes.\n",
      "DEBUG num.nides 1000 time 45.724998235702515\n",
      "Converged within 1e-05 in 139.6 iterations on average.\n",
      "\n",
      "Starting experiment on 1200 nodes.\n",
      "DEBUG num.nides 1200 time 57.841480016708374\n",
      "Converged within 1e-05 in 140.2 iterations on average.\n",
      "\n"
     ]
    },
    {
     "data": {
      "image/png": "[encoded data removed]",
      "text/plain": [
       "<Figure size 432x288 with 1 Axes>"
      ]
     },
     "metadata": {
      "needs_background": "light"
     },
     "output_type": "display_data"
    },
    {
     "name": "stdout",
     "output_type": "stream",
     "text": [
      "data/convex_ring.npy\n"
     ]
    }
   ],
   "source": [
    "topology = \"ring\"\n",
    "lr = 1e-1\n",
    "threshold = 1e-5\n",
    "\n",
    "means, results = experiment(num_nodes, n_params, topology, func_type, max_iter, lr, threshold, number_exp)\n",
    "\n",
    "plotIter(num_nodes, means)\n",
    "\n",
    "filename = save_folder + func_type.replace(\" \", \"\") + \"_\" + topology + \".npy\"\n",
    "print(filename)\n",
    "\n",
    "with open(filename, 'wb') as f:\n",
    "    np.save(f, results)"
   ]
  },
  {
   "cell_type": "code",
   "execution_count": 9,
   "id": "aad57c3c-8bcd-4387-b51b-a138f6d19237",
   "metadata": {},
   "outputs": [
    {
     "name": "stdout",
     "output_type": "stream",
     "text": [
      "Starting experiment on 2 nodes.\n",
      "DEBUG num.nides 2 time 0.0304720401763916\n",
      "Converged within 5e-05 in 63.4 iterations on average.\n",
      "\n",
      "Starting experiment on 10 nodes.\n",
      "DEBUG num.nides 10 time 0.024667739868164062\n",
      "Converged within 5e-05 in 65.6 iterations on average.\n",
      "\n",
      "Starting experiment on 50 nodes.\n",
      "DEBUG num.nides 50 time 0.03751707077026367\n",
      "Converged within 5e-05 in 70.2 iterations on average.\n",
      "\n",
      "Starting experiment on 100 nodes.\n",
      "DEBUG num.nides 100 time 0.05381298065185547\n",
      "Converged within 5e-05 in 71.6 iterations on average.\n",
      "\n",
      "Starting experiment on 300 nodes.\n",
      "DEBUG num.nides 300 time 0.3573288917541504\n",
      "Converged within 5e-05 in 83.8 iterations on average.\n",
      "\n",
      "Starting experiment on 600 nodes.\n",
      "DEBUG num.nides 600 time 1.0810081958770752\n",
      "Converged within 5e-05 in 151.4 iterations on average.\n",
      "\n",
      "Starting experiment on 1000 nodes.\n",
      "DEBUG num.nides 1000 time 7.935612916946411\n",
      "Converged within 5e-05 in 583.4 iterations on average.\n",
      "\n",
      "Starting experiment on 1200 nodes.\n",
      "DEBUG num.nides 1200 time 61.76786708831787\n",
      "Converged within 5e-05 in 3058.8 iterations on average.\n",
      "\n"
     ]
    },
    {
     "data": {
      "image/png": "[encoded data removed]",
      "text/plain": [
       "<Figure size 432x288 with 1 Axes>"
      ]
     },
     "metadata": {
      "needs_background": "light"
     },
     "output_type": "display_data"
    },
    {
     "name": "stdout",
     "output_type": "stream",
     "text": [
      "data/nonconvex_centralized.npy\n"
     ]
    }
   ],
   "source": [
    "topology = \"centralized\"\n",
    "lr = 1e-1\n",
    "threshold = 5e-5\n",
    "\n",
    "means, results = experiment(num_nodes, n_params, topology, func_type, max_iter, lr, threshold, number_exp)\n",
    "\n",
    "plotIter(num_nodes, means)\n",
    "\n",
    "filename = save_folder + func_type.replace(\" \", \"\") + \"_\" + topology + \".npy\"\n",
    "print(filename)\n",
    "\n",
    "with open(filename, 'wb') as f:\n",
    "    np.save(f, results)"
   ]
  },
  {
   "cell_type": "markdown",
   "id": "f25a1f65-640a-463a-8eee-a0d3bf8e7e3e",
   "metadata": {
    "tags": []
   },
   "source": [
    "## Convex function"
   ]
  },
  {
   "cell_type": "code",
   "execution_count": 12,
   "id": "9185b592-76f5-48b2-b75b-456dbda6dc13",
   "metadata": {},
   "outputs": [],
   "source": [
    "func_type = \"convex\""
   ]
  },
  {
   "cell_type": "code",
   "execution_count": 13,
   "id": "1b958dee-5ead-48ac-beb5-f5910797bba7",
   "metadata": {},
   "outputs": [
    {
     "name": "stdout",
     "output_type": "stream",
     "text": [
      "Starting experiment on 2 nodes.\n",
      "DEBUG num.nides 2 time 0.3502027988433838\n",
      "Converged within 1e-05 in 155.0 iterations on average.\n",
      "\n",
      "Starting experiment on 10 nodes.\n",
      "DEBUG num.nides 10 time 0.5787200927734375\n",
      "Converged within 1e-05 in 136.8 iterations on average.\n",
      "\n",
      "Starting experiment on 50 nodes.\n",
      "DEBUG num.nides 50 time 2.2872681617736816\n",
      "Converged within 1e-05 in 134.2 iterations on average.\n",
      "\n",
      "Starting experiment on 100 nodes.\n",
      "DEBUG num.nides 100 time 3.9597129821777344\n",
      "Converged within 1e-05 in 133.0 iterations on average.\n",
      "\n",
      "Starting experiment on 300 nodes.\n",
      "DEBUG num.nides 300 time 15.25686502456665\n",
      "Converged within 1e-05 in 133.8 iterations on average.\n",
      "\n",
      "Starting experiment on 600 nodes.\n",
      "DEBUG num.nides 600 time 38.70440101623535\n",
      "Converged within 1e-05 in 134.0 iterations on average.\n",
      "\n",
      "Starting experiment on 1000 nodes.\n",
      "DEBUG num.nides 1000 time 49.155522108078\n",
      "Converged within 1e-05 in 133.6 iterations on average.\n",
      "\n",
      "Starting experiment on 1200 nodes.\n",
      "DEBUG num.nides 1200 time 75.23822593688965\n",
      "Converged within 1e-05 in 133.8 iterations on average.\n",
      "\n"
     ]
    },
    {
     "data": {
      "image/png": "[encoded data removed]",
      "text/plain": [
       "<Figure size 432x288 with 1 Axes>"
      ]
     },
     "metadata": {
      "needs_background": "light"
     },
     "output_type": "display_data"
    },
    {
     "name": "stdout",
     "output_type": "stream",
     "text": [
      "data/convex_dense.npy\n"
     ]
    }
   ],
   "source": [
    "topology = \"dense\"\n",
    "lr = 1e-1\n",
    "threshold = 1e-5\n",
    "\n",
    "means, results = experiment(num_nodes, n_params, topology, func_type, max_iter, lr, threshold, number_exp)\n",
    "\n",
    "plotIter(num_nodes, means)\n",
    "\n",
    "filename = save_folder + func_type.replace(\" \", \"\") + \"_\" + topology + \".npy\"\n",
    "print(filename)\n",
    "\n",
    "with open(filename, 'wb') as f:\n",
    "    np.save(f, results)"
   ]
  },
  {
   "cell_type": "code",
   "execution_count": 22,
   "id": "828534b1-833c-433b-9153-0c25c618873d",
   "metadata": {},
   "outputs": [
    {
     "name": "stdout",
     "output_type": "stream",
     "text": [
      "Starting experiment on 2 nodes.\n",
      "DEBUG num.nides 2 time 0.273557186126709\n",
      "Converged within 1e-05 in 166.2 iterations on average.\n",
      "\n",
      "Starting experiment on 10 nodes.\n",
      "DEBUG num.nides 10 time 0.5316669940948486\n",
      "Converged within 1e-05 in 142.8 iterations on average.\n",
      "\n",
      "Starting experiment on 50 nodes.\n",
      "DEBUG num.nides 50 time 2.332669973373413\n",
      "Converged within 1e-05 in 141.0 iterations on average.\n",
      "\n",
      "Starting experiment on 100 nodes.\n",
      "DEBUG num.nides 100 time 4.270441055297852\n",
      "Converged within 1e-05 in 142.0 iterations on average.\n",
      "\n",
      "Starting experiment on 300 nodes.\n",
      "DEBUG num.nides 300 time 12.54292607307434\n",
      "Converged within 1e-05 in 141.8 iterations on average.\n",
      "\n",
      "Starting experiment on 600 nodes.\n",
      "DEBUG num.nides 600 time 28.57764196395874\n",
      "Converged within 1e-05 in 142.2 iterations on average.\n",
      "\n",
      "Starting experiment on 1000 nodes.\n",
      "DEBUG num.nides 1000 time 50.48414492607117\n",
      "Converged within 1e-05 in 141.8 iterations on average.\n",
      "\n",
      "Starting experiment on 1200 nodes.\n",
      "DEBUG num.nides 1200 time 57.613579988479614\n",
      "Converged within 1e-05 in 141.6 iterations on average.\n",
      "\n"
     ]
    },
    {
     "data": {
      "image/png": "[encoded data removed]",
      "text/plain": [
       "<Figure size 432x288 with 1 Axes>"
      ]
     },
     "metadata": {
      "needs_background": "light"
     },
     "output_type": "display_data"
    },
    {
     "name": "stdout",
     "output_type": "stream",
     "text": [
      "data/convex_ring.npy\n"
     ]
    }
   ],
   "source": [
    "topology = \"ring\"\n",
    "lr = 1e-1\n",
    "threshold = 1e-5\n",
    "\n",
    "means, results = experiment(num_nodes, n_params, topology, func_type, max_iter, lr, threshold, number_exp)\n",
    "\n",
    "plotIter(num_nodes, means)\n",
    "\n",
    "filename = save_folder + func_type.replace(\" \", \"\") + \"_\" + topology + \".npy\"\n",
    "print(filename)\n",
    "\n",
    "with open(filename, 'wb') as f:\n",
    "    np.save(f, results)"
   ]
  },
  {
   "cell_type": "code",
   "execution_count": 16,
   "id": "85819ab2-eb3c-401e-acdc-c8ac08b9285f",
   "metadata": {},
   "outputs": [
    {
     "name": "stdout",
     "output_type": "stream",
     "text": [
      "Starting experiment on 2 nodes.\n",
      "DEBUG num.nides 2 time 0.21062135696411133\n",
      "Converged within 5e-05 in 128.4 iterations on average.\n",
      "\n",
      "Starting experiment on 10 nodes.\n",
      "DEBUG num.nides 10 time 0.6385040283203125\n",
      "Converged within 5e-05 in 128.0 iterations on average.\n",
      "\n",
      "Starting experiment on 50 nodes.\n",
      "DEBUG num.nides 50 time 2.0819640159606934\n",
      "Converged within 5e-05 in 130.0 iterations on average.\n",
      "\n",
      "Starting experiment on 100 nodes.\n",
      "DEBUG num.nides 100 time 4.776073932647705\n",
      "Converged within 5e-05 in 130.6 iterations on average.\n",
      "\n",
      "Starting experiment on 300 nodes.\n",
      "DEBUG num.nides 300 time 14.492549180984497\n",
      "Converged within 5e-05 in 132.2 iterations on average.\n",
      "\n",
      "Starting experiment on 600 nodes.\n",
      "DEBUG num.nides 600 time 26.95932412147522\n",
      "Converged within 5e-05 in 132.8 iterations on average.\n",
      "\n",
      "Starting experiment on 1000 nodes.\n",
      "DEBUG num.nides 1000 time 55.3136830329895\n",
      "Converged within 5e-05 in 133.0 iterations on average.\n",
      "\n",
      "Starting experiment on 1200 nodes.\n",
      "DEBUG num.nides 1200 time 64.29714107513428\n",
      "Converged within 5e-05 in 132.6 iterations on average.\n",
      "\n"
     ]
    },
    {
     "data": {
      "image/png": "[encoded data removed]",
      "text/plain": [
       "<Figure size 432x288 with 1 Axes>"
      ]
     },
     "metadata": {
      "needs_background": "light"
     },
     "output_type": "display_data"
    },
    {
     "name": "stdout",
     "output_type": "stream",
     "text": [
      "data/convex_centralized.npy\n"
     ]
    }
   ],
   "source": [
    "topology = \"centralized\"\n",
    "lr = 1e-1\n",
    "threshold = 5e-5\n",
    "\n",
    "means, results = experiment(num_nodes, n_params, topology, func_type, max_iter, lr, threshold, number_exp)\n",
    "\n",
    "plotIter(num_nodes, means)\n",
    "\n",
    "filename = save_folder + func_type.replace(\" \", \"\") + \"_\" + topology + \".npy\"\n",
    "print(filename)\n",
    "\n",
    "with open(filename, 'wb') as f:\n",
    "    np.save(f, results)"
   ]
  },
  {
   "cell_type": "markdown",
   "id": "da1427d6-04c5-4c02-b284-591ab4131288",
   "metadata": {
    "tags": []
   },
   "source": [
    "## Strongly convex function"
   ]
  },
  {
   "cell_type": "code",
   "execution_count": 17,
   "id": "f13c4a35-f9cc-406f-b6b8-ed6a5f9149fa",
   "metadata": {},
   "outputs": [],
   "source": [
    "func_type = \"convex\""
   ]
  },
  {
   "cell_type": "code",
   "execution_count": 18,
   "id": "d9a66a6f-dcb5-42f6-87d5-2999afd3ea47",
   "metadata": {},
   "outputs": [
    {
     "name": "stdout",
     "output_type": "stream",
     "text": [
      "Starting experiment on 2 nodes.\n",
      "DEBUG num.nides 2 time 0.25772595405578613\n",
      "Converged within 1e-05 in 158.6 iterations on average.\n",
      "\n",
      "Starting experiment on 10 nodes.\n",
      "DEBUG num.nides 10 time 0.5723907947540283\n",
      "Converged within 1e-05 in 142.8 iterations on average.\n",
      "\n",
      "Starting experiment on 50 nodes.\n",
      "DEBUG num.nides 50 time 2.0882439613342285\n",
      "Converged within 1e-05 in 138.4 iterations on average.\n",
      "\n",
      "Starting experiment on 100 nodes.\n",
      "DEBUG num.nides 100 time 3.926328182220459\n",
      "Converged within 1e-05 in 137.8 iterations on average.\n",
      "\n",
      "Starting experiment on 300 nodes.\n",
      "DEBUG num.nides 300 time 12.734405040740967\n",
      "Converged within 1e-05 in 138.8 iterations on average.\n",
      "\n",
      "Starting experiment on 600 nodes.\n",
      "DEBUG num.nides 600 time 26.83608078956604\n",
      "Converged within 1e-05 in 138.2 iterations on average.\n",
      "\n",
      "Starting experiment on 1000 nodes.\n",
      "DEBUG num.nides 1000 time 49.958641052246094\n",
      "Converged within 1e-05 in 138.4 iterations on average.\n",
      "\n",
      "Starting experiment on 1200 nodes.\n",
      "DEBUG num.nides 1200 time 64.46320033073425\n",
      "Converged within 1e-05 in 138.4 iterations on average.\n",
      "\n"
     ]
    },
    {
     "data": {
      "image/png": "[encoded data removed]",
      "text/plain": [
       "<Figure size 432x288 with 1 Axes>"
      ]
     },
     "metadata": {
      "needs_background": "light"
     },
     "output_type": "display_data"
    },
    {
     "name": "stdout",
     "output_type": "stream",
     "text": [
      "data/convex_dense.npy\n"
     ]
    }
   ],
   "source": [
    "topology = \"dense\"\n",
    "lr = 1e-1\n",
    "threshold = 1e-5\n",
    "\n",
    "means, results = experiment(num_nodes, n_params, topology, func_type, max_iter, lr, threshold, number_exp)\n",
    "\n",
    "plotIter(num_nodes, means)\n",
    "\n",
    "filename = save_folder + func_type.replace(\" \", \"\") + \"_\" + topology + \".npy\"\n",
    "print(filename)\n",
    "\n",
    "with open(filename, 'wb') as f:\n",
    "    np.save(f, results)"
   ]
  },
  {
   "cell_type": "code",
   "execution_count": 23,
   "id": "50a50030-3ff6-4d9d-b19d-849cfdf21802",
   "metadata": {},
   "outputs": [
    {
     "name": "stdout",
     "output_type": "stream",
     "text": [
      "Starting experiment on 2 nodes.\n",
      "DEBUG num.nides 2 time 0.26242995262145996\n",
      "Converged within 1e-05 in 174.2 iterations on average.\n",
      "\n",
      "Starting experiment on 10 nodes.\n",
      "DEBUG num.nides 10 time 0.6132409572601318\n",
      "Converged within 1e-05 in 146.6 iterations on average.\n",
      "\n",
      "Starting experiment on 50 nodes.\n",
      "DEBUG num.nides 50 time 2.177927017211914\n",
      "Converged within 1e-05 in 146.0 iterations on average.\n",
      "\n",
      "Starting experiment on 100 nodes.\n",
      "DEBUG num.nides 100 time 5.925350904464722\n",
      "Converged within 1e-05 in 145.8 iterations on average.\n",
      "\n",
      "Starting experiment on 300 nodes.\n",
      "DEBUG num.nides 300 time 13.479661703109741\n",
      "Converged within 1e-05 in 145.2 iterations on average.\n",
      "\n",
      "Starting experiment on 600 nodes.\n",
      "DEBUG num.nides 600 time 32.65996694564819\n",
      "Converged within 1e-05 in 144.4 iterations on average.\n",
      "\n",
      "Starting experiment on 1000 nodes.\n",
      "DEBUG num.nides 1000 time 52.523518085479736\n",
      "Converged within 1e-05 in 144.8 iterations on average.\n",
      "\n",
      "Starting experiment on 1200 nodes.\n",
      "DEBUG num.nides 1200 time 62.82176399230957\n",
      "Converged within 1e-05 in 144.8 iterations on average.\n",
      "\n"
     ]
    },
    {
     "data": {
      "image/png": "[encoded data removed]",
      "text/plain": [
       "<Figure size 432x288 with 1 Axes>"
      ]
     },
     "metadata": {
      "needs_background": "light"
     },
     "output_type": "display_data"
    },
    {
     "name": "stdout",
     "output_type": "stream",
     "text": [
      "data/convex_ring.npy\n"
     ]
    }
   ],
   "source": [
    "topology = \"ring\"\n",
    "lr = 1e-1\n",
    "threshold = 1e-5\n",
    "\n",
    "means, results = experiment(num_nodes, n_params, topology, func_type, max_iter, lr, threshold, number_exp)\n",
    "\n",
    "plotIter(num_nodes, means)\n",
    "\n",
    "filename = save_folder + func_type.replace(\" \", \"\") + \"_\" + topology + \".npy\"\n",
    "print(filename)\n",
    "\n",
    "with open(filename, 'wb') as f:\n",
    "    np.save(f, results)"
   ]
  },
  {
   "cell_type": "code",
   "execution_count": 20,
   "id": "4a18f46e-f54c-40d0-b5d1-53c5c35a888f",
   "metadata": {},
   "outputs": [
    {
     "name": "stdout",
     "output_type": "stream",
     "text": [
      "Starting experiment on 2 nodes.\n",
      "DEBUG num.nides 2 time 0.20150208473205566\n",
      "Converged within 5e-05 in 129.6 iterations on average.\n",
      "\n",
      "Starting experiment on 10 nodes.\n",
      "DEBUG num.nides 10 time 0.45746397972106934\n",
      "Converged within 5e-05 in 126.4 iterations on average.\n",
      "\n",
      "Starting experiment on 50 nodes.\n",
      "DEBUG num.nides 50 time 2.018012046813965\n",
      "Converged within 5e-05 in 130.0 iterations on average.\n",
      "\n",
      "Starting experiment on 100 nodes.\n",
      "DEBUG num.nides 100 time 3.8197312355041504\n",
      "Converged within 5e-05 in 131.6 iterations on average.\n",
      "\n",
      "Starting experiment on 300 nodes.\n",
      "DEBUG num.nides 300 time 14.189636707305908\n",
      "Converged within 5e-05 in 132.4 iterations on average.\n",
      "\n",
      "Starting experiment on 600 nodes.\n",
      "DEBUG num.nides 600 time 39.662437915802\n",
      "Converged within 5e-05 in 132.8 iterations on average.\n",
      "\n",
      "Starting experiment on 1000 nodes.\n",
      "DEBUG num.nides 1000 time 62.065791845321655\n",
      "Converged within 5e-05 in 132.8 iterations on average.\n",
      "\n",
      "Starting experiment on 1200 nodes.\n",
      "DEBUG num.nides 1200 time 72.84319996833801\n",
      "Converged within 5e-05 in 133.0 iterations on average.\n",
      "\n"
     ]
    },
    {
     "data": {
      "image/png": "[encoded data removed]",
      "text/plain": [
       "<Figure size 432x288 with 1 Axes>"
      ]
     },
     "metadata": {
      "needs_background": "light"
     },
     "output_type": "display_data"
    },
    {
     "name": "stdout",
     "output_type": "stream",
     "text": [
      "data/convex_centralized.npy\n"
     ]
    }
   ],
   "source": [
    "topology = \"centralized\"\n",
    "lr = 1e-1\n",
    "threshold = 5e-5\n",
    "\n",
    "means, results = experiment(num_nodes, n_params, topology, func_type, max_iter, lr, threshold, number_exp)\n",
    "\n",
    "plotIter(num_nodes, means)\n",
    "\n",
    "filename = save_folder + func_type.replace(\" \", \"\") + \"_\" + topology + \".npy\"\n",
    "print(filename)\n",
    "\n",
    "with open(filename, 'wb') as f:\n",
    "    np.save(f, results)"
   ]
  },
  {
   "cell_type": "code",
   "execution_count": 24,
   "id": "c828b281-0823-4c7c-b63d-9a6f58048e7d",
   "metadata": {},
   "outputs": [
    {
     "name": "stdout",
     "output_type": "stream",
     "text": [
      "[[162 147 144 270 148]\n",
      " [149 145 151 150 138]\n",
      " [143 145 144 150 148]\n",
      " [145 144 146 149 145]\n",
      " [145 145 146 145 145]\n",
      " [145 145 144 145 143]\n",
      " [145 145 145 144 145]\n",
      " [145 145 144 145 145]]\n"
     ]
    }
   ],
   "source": [
    "print(results)"
   ]
  },
  {
   "cell_type": "code",
   "execution_count": null,
   "id": "cd03deb8-803b-4195-8080-b46ff3185c80",
   "metadata": {},
   "outputs": [],
   "source": []
  }
 ],
 "metadata": {
  "kernelspec": {
   "display_name": "Python 3 (ipykernel)",
   "language": "python",
   "name": "python3"
  },
  "language_info": {
   "codemirror_mode": {
    "name": "ipython",
    "version": 3
   },
   "file_extension": ".py",
   "mimetype": "text/x-python",
   "name": "python",
   "nbconvert_exporter": "python",
   "pygments_lexer": "ipython3",
   "version": "3.9.10"
  }
 },
 "nbformat": 4,
 "nbformat_minor": 5
}
