{
 "cells": [
  {
   "cell_type": "code",
   "execution_count": 1,
   "id": "77b20a15-47a0-4423-bac9-4352a44a986a",
   "metadata": {},
   "outputs": [],
   "source": [
    "import numpy as np\n",
    "from oracle import Oracle"
   ]
  },
  {
   "cell_type": "code",
   "execution_count": 2,
   "id": "6bface80-b732-41ce-bb15-315cb6566802",
   "metadata": {},
   "outputs": [],
   "source": [
    "def decentralizedSGD(x0, lr, max_iter, W, oracle):\n",
    "    \n",
    "    x_t = x0\n",
    "    \n",
    "    for t in range(max_iter):\n",
    "         \n",
    "        noise = np.random.normal(0, 1, size=x_t.shape)\n",
    "        \n",
    "        f, df = oracle(x_t + noise)\n",
    "        \n",
    "        y_t = x_t - lr * df\n",
    "        x_t = np.matmul(y_t, W)\n",
    "        \n",
    "    return x_t\n",
    "\n",
    "def MetropolisHastings(W):\n",
    "    \n",
    "    degrees = np.sum(W, axis=1)\n",
    "    \n",
    "    for i in range(W.shape[0]):\n",
    "        for j in range(i, W.shape[0]):\n",
    "            \n",
    "            if W[i, j] != 0:\n",
    "                \n",
    "                weight = min(1 / (degrees[i] + 1), 1 / (degrees[j] + 1))\n",
    "                \n",
    "                W[i, j] = weight\n",
    "                W[j, i] = weight\n",
    "                \n",
    "    return W\n",
    "\n",
    "\n",
    "def toMatrix(size, adj_list):\n",
    "    \n",
    "    matrix = np.zeros((size, size))\n",
    "    \n",
    "    for node in adj_list:\n",
    "        \n",
    "        neighbors = adj_list[node]\n",
    "        \n",
    "        for neighbor in neighbors:\n",
    "            \n",
    "            matrix[node, neighbor] = 1\n",
    "            matrix[neighbor, node] = 1\n",
    "            \n",
    "    return matrix.astype(np.float64)"
   ]
  },
  {
   "cell_type": "code",
   "execution_count": 3,
   "id": "ac6c74d2-758f-4383-930c-616af8055630",
   "metadata": {},
   "outputs": [
    {
     "data": {
      "text/plain": [
       "array([[ 2.27174964e-05, -6.53774581e-05,  3.15044267e-05,\n",
       "         3.35007479e-05],\n",
       "       [ 6.12463941e-05,  2.32537985e-05, -1.08651099e-04,\n",
       "        -4.03365511e-05],\n",
       "       [ 1.12331802e-04, -7.19710396e-05,  4.45478723e-05,\n",
       "         8.77153228e-05],\n",
       "       [-6.37883738e-05, -9.11599587e-05, -1.49428642e-04,\n",
       "        -4.81727584e-05],\n",
       "       [-6.49307955e-06,  1.01094894e-04,  4.64995411e-05,\n",
       "         6.94645577e-06],\n",
       "       [-7.34495323e-05, -6.34099193e-05, -4.04980444e-05,\n",
       "        -1.57343894e-05]])"
      ]
     },
     "execution_count": 3,
     "metadata": {},
     "output_type": "execute_result"
    }
   ],
   "source": [
    "nodes = 4\n",
    "params = 6\n",
    "shape = (params, nodes)\n",
    "max_iter = 100\n",
    "lr = 1e-4\n",
    "\n",
    "x0 = np.random.randn(params, nodes)\n",
    "\n",
    "connections = {0: [1, 2], 1: [3], 2: [1]}\n",
    "\n",
    "adjacency_matrix = toMatrix(nodes, connections)\n",
    "\n",
    "W = MetropolisHastings(adjacency_matrix)\n",
    "\n",
    "func_type = \"strongly convex\"\n",
    "oracle = Oracle(func_type)\n",
    "\n",
    "decentralizedSGD(x0, lr, max_iter, W, oracle)"
   ]
  }
 ],
 "metadata": {
  "kernelspec": {
   "display_name": "igh",
   "language": "python",
   "name": "igh"
  },
  "language_info": {
   "codemirror_mode": {
    "name": "ipython",
    "version": 3
   },
   "file_extension": ".py",
   "mimetype": "text/x-python",
   "name": "python",
   "nbconvert_exporter": "python",
   "pygments_lexer": "ipython3",
   "version": "3.8.5"
  }
 },
 "nbformat": 4,
 "nbformat_minor": 5
}
