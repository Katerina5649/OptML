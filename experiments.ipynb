{
 "cells": [
  {
   "cell_type": "code",
   "execution_count": 1,
   "id": "45a4e186",
   "metadata": {},
   "outputs": [],
   "source": [
    "import numpy as np\n",
    "import matplotlib.pyplot as plt\n",
    "from oracle import Oracle\n",
    "from accuracy_test import accuracy_check, accuracy_check_iter, accuracy_check_err\n",
    "import time"
   ]
  },
  {
   "cell_type": "code",
   "execution_count": 2,
   "id": "bd9dc0f8",
   "metadata": {
    "tags": []
   },
   "outputs": [],
   "source": [
    "def decentralizedSGD(x0, lr, max_iter, eps, W, oracle):\n",
    "    \n",
    "    x_t = x0\n",
    "    x_prev = x0\n",
    "    \n",
    "    itr = 0\n",
    "    error = np.inf\n",
    "    current_sum = 0.\n",
    "    \n",
    "    errors = []\n",
    "    \n",
    "    x_star, _ = oracle.getMin()\n",
    "    \n",
    "    while (itr < max_iter) and (error > eps):\n",
    "         \n",
    "        noise = np.random.normal(0, 1, size=x_t.shape) / 100\n",
    "        \n",
    "        f, df = oracle(x_t + noise)\n",
    "        \n",
    "        x_prev = x_t\n",
    "        \n",
    "        y_t = x_t - lr * df\n",
    "        x_t = y_t @ W\n",
    "        \n",
    "        if (oracle.getType() == \"strongly convex\") and (itr > 0):\n",
    "            err, sum_ = accuracy_check_iter(x_prev, current_sum, itr, oracle, x_t)\n",
    "            error = err\n",
    "            current_sum = sum_\n",
    "            errors.append(error)\n",
    "        elif (oracle.getType() != \"strongly convex\"):\n",
    "            err, sum_ = accuracy_check_iter(x_t, current_sum, itr, oracle)\n",
    "            error = err\n",
    "            current_sum = sum_\n",
    "            errors.append(error)\n",
    "        #error = accuracy_check_err(x_t, x_star)\n",
    "        #errors.append(error)\n",
    "        \n",
    "        itr += 1\n",
    "        \n",
    "    return x_t, itr, errors\n",
    "\n",
    "def MetropolisHastings(W):\n",
    "    \n",
    "    degrees = np.sum(W, axis=1)\n",
    "    \n",
    "    for i in range(W.shape[0]):\n",
    "        for j in range(i+1, W.shape[0]):\n",
    "            \n",
    "            if W[i, j] != 0:\n",
    "                \n",
    "                weight = 1 / (1 + max(degrees[i], degrees[j]))\n",
    "                \n",
    "                W[i, j] = weight\n",
    "                W[j, i] = weight\n",
    "    \n",
    "    for i in range(W.shape[0]):\n",
    "        W[i, i] = 1 - (np.sum(W, axis = 0)[i] - 1.0) # Remove 1 because counts self weight of 1 from adjacency matrix W\n",
    "                \n",
    "    return W\n",
    "\n",
    "\n",
    "def toMatrix(n_nodes, adj_list):\n",
    "    \n",
    "    matrix = np.zeros((n_nodes, n_nodes))\n",
    "    \n",
    "    for node in adj_list:\n",
    "        \n",
    "        neighbors = adj_list[node]\n",
    "        \n",
    "        for neighbor in neighbors:\n",
    "            \n",
    "            matrix[node, neighbor] = 1\n",
    "            matrix[neighbor, node] = 1\n",
    "            \n",
    "    return matrix.astype(np.float64)\n",
    "\n",
    "\n",
    "def buildTopology(n_nodes, topology):\n",
    "    \n",
    "    if topology == \"dense\":\n",
    "        \n",
    "        W = np.ones((n_nodes, n_nodes))\n",
    "\n",
    "        return MetropolisHastings(W.astype(np.float64))\n",
    "    \n",
    "    elif topology == \"ring\":\n",
    "        \n",
    "        connections = {} # adjacency list\n",
    "        \n",
    "        for node in range(n_nodes):\n",
    "            \n",
    "            if node == n_nodes - 1:\n",
    "                connections[node] = [node, 0]\n",
    "            else:\n",
    "                connections[node] = [node, node + 1]\n",
    "        \n",
    "        W = toMatrix(n_nodes, connections)\n",
    "        \n",
    "        return MetropolisHastings(W)\n",
    "    \n",
    "    elif topology == \"centralized\":\n",
    "        \n",
    "        connections = {} # adjacency list\n",
    "        \n",
    "        connections[0] = [0]\n",
    "        for node in range(1, n_nodes):\n",
    "            connections[node] = [node, 0] # node 0 is central node\n",
    "            \n",
    "        W = toMatrix(n_nodes, connections)\n",
    "        \n",
    "        return MetropolisHastings(W)\n",
    "    \n",
    "    else:\n",
    "        print(\"Wrong topology\")\n",
    "        \n",
    "\n",
    "def experiment(list_nodes, n_params, topology, func_type, max_iter, lr, error_threshold, number_exp = 10):\n",
    "    \n",
    "    means = []\n",
    "    results = []\n",
    "    \n",
    "    oracle = Oracle(func_type, n_params)\n",
    "    \n",
    "    for n_nodes in list_nodes:\n",
    "        start = time.time()\n",
    "        \n",
    "        print(\"Starting experiment on {} nodes.\".format(n_nodes))\n",
    "        \n",
    "        temp = []\n",
    "        \n",
    "        for _ in range(number_exp): # Do average\n",
    "            \n",
    "            x0 = np.ones((n_params, n_nodes)).astype(np.float64) #np.random.randn(n_params, n_nodes)\n",
    "            W = buildTopology(n_nodes, topology)\n",
    "            \n",
    "            x_t, itr, errors = decentralizedSGD(x0, lr, max_iter, error_threshold, W, oracle)\n",
    "\n",
    "            temp.append(itr)\n",
    "        \n",
    "        mean = np.mean(temp)\n",
    "        \n",
    "        print(f'DEBUG num.nides {n_nodes} time {time.time() - start}')\n",
    "        print(\"Converged within {} in {} iterations on average.\".format(error_threshold, mean))\n",
    "        print()\n",
    "        \n",
    "        means.append(mean)\n",
    "        results.append(temp)\n",
    "    \n",
    "    return np.array(means), np.array(results)\n",
    "    \n",
    "\n",
    "def plotIter(num_nodes, iters):\n",
    "    \n",
    "    plt.plot(num_nodes, iters)\n",
    "    plt.xlabel(\"Number of nodes\")\n",
    "    plt.ylabel(\"Number of iterations\")\n",
    "    plt.show()"
   ]
  },
  {
   "cell_type": "markdown",
   "id": "0c9590ba-eee3-4a87-85ac-52cbe9fcd035",
   "metadata": {},
   "source": [
    "# Experiments"
   ]
  },
  {
   "cell_type": "code",
   "execution_count": 3,
   "id": "3710b5f5-f66a-4b5b-8c2b-616306101e27",
   "metadata": {},
   "outputs": [],
   "source": [
    "save_folder = \"data/\"\n",
    "\n",
    "n_params = 8\n",
    "max_iter = np.inf\n",
    "number_exp = 5\n",
    "\n",
    "num_nodes = [2, 10, 50, 100, 300, 600, 1000]"
   ]
  },
  {
   "cell_type": "markdown",
   "id": "0b030d44-a2c3-4309-8849-3ccfc2ddee82",
   "metadata": {
    "tags": []
   },
   "source": [
    "## Non convex function"
   ]
  },
  {
   "cell_type": "code",
   "execution_count": 4,
   "id": "511647bc-622c-4d7d-ae6c-9d35b069d68b",
   "metadata": {},
   "outputs": [],
   "source": [
    "func_type = \"non convex\""
   ]
  },
  {
   "cell_type": "code",
   "execution_count": 5,
   "id": "af37fe1c-1914-4825-b092-1a92d4448486",
   "metadata": {},
   "outputs": [
    {
     "name": "stdout",
     "output_type": "stream",
     "text": [
      "Starting experiment on 2 nodes.\n",
      "DEBUG num.nides 2 time 13.351746082305908\n",
      "Converged within 0.001 in 30422.0 iterations on average.\n",
      "\n",
      "Starting experiment on 10 nodes.\n",
      "DEBUG num.nides 10 time 13.303148984909058\n",
      "Converged within 0.001 in 29916.8 iterations on average.\n",
      "\n",
      "Starting experiment on 50 nodes.\n",
      "DEBUG num.nides 50 time 15.634664297103882\n",
      "Converged within 0.001 in 29814.4 iterations on average.\n",
      "\n",
      "Starting experiment on 100 nodes.\n",
      "DEBUG num.nides 100 time 18.669113874435425\n",
      "Converged within 0.001 in 29802.0 iterations on average.\n",
      "\n",
      "Starting experiment on 300 nodes.\n",
      "DEBUG num.nides 300 time 41.099956035614014\n",
      "Converged within 0.001 in 29794.0 iterations on average.\n",
      "\n",
      "Starting experiment on 600 nodes.\n",
      "DEBUG num.nides 600 time 109.48171281814575\n",
      "Converged within 0.001 in 29792.0 iterations on average.\n",
      "\n",
      "Starting experiment on 1000 nodes.\n",
      "DEBUG num.nides 1000 time 260.22577810287476\n",
      "Converged within 0.001 in 29792.0 iterations on average.\n",
      "\n"
     ]
    },
    {
     "data": {
      "image/png": "[encoded data removed]",
      "text/plain": [
       "<Figure size 432x288 with 1 Axes>"
      ]
     },
     "metadata": {
      "needs_background": "light"
     },
     "output_type": "display_data"
    },
    {
     "name": "stdout",
     "output_type": "stream",
     "text": [
      "data/nonconvex_dense.npy\n"
     ]
    }
   ],
   "source": [
    "topology = \"dense\"\n",
    "lr = 1e-1\n",
    "threshold = 1e-3\n",
    "\n",
    "means, results = experiment(num_nodes, n_params, topology, func_type, max_iter, lr, threshold, number_exp)\n",
    "\n",
    "plotIter(num_nodes, means)\n",
    "\n",
    "filename = save_folder + func_type.replace(\" \", \"\") + \"_\" + topology + \".npy\"\n",
    "print(filename)\n",
    "\n",
    "with open(filename, 'wb') as f:\n",
    "    np.save(f, results)"
   ]
  },
  {
   "cell_type": "code",
   "execution_count": 6,
   "id": "c0724da8-de29-4f4f-8ad0-2346cf7a250d",
   "metadata": {},
   "outputs": [
    {
     "name": "stdout",
     "output_type": "stream",
     "text": [
      "Starting experiment on 2 nodes.\n",
      "DEBUG num.nides 2 time 13.68575382232666\n",
      "Converged within 0.001 in 30430.8 iterations on average.\n",
      "\n",
      "Starting experiment on 10 nodes.\n",
      "DEBUG num.nides 10 time 13.301653146743774\n",
      "Converged within 0.001 in 29910.2 iterations on average.\n",
      "\n",
      "Starting experiment on 50 nodes.\n",
      "DEBUG num.nides 50 time 15.654550075531006\n",
      "Converged within 0.001 in 29813.8 iterations on average.\n",
      "\n",
      "Starting experiment on 100 nodes.\n",
      "DEBUG num.nides 100 time 18.717748165130615\n",
      "Converged within 0.001 in 29803.4 iterations on average.\n",
      "\n",
      "Starting experiment on 300 nodes.\n",
      "DEBUG num.nides 300 time 42.37614893913269\n",
      "Converged within 0.001 in 29795.0 iterations on average.\n",
      "\n",
      "Starting experiment on 600 nodes.\n",
      "DEBUG num.nides 600 time 112.2136070728302\n",
      "Converged within 0.001 in 29792.6 iterations on average.\n",
      "\n",
      "Starting experiment on 1000 nodes.\n",
      "DEBUG num.nides 1000 time 264.27600264549255\n",
      "Converged within 0.001 in 29792.0 iterations on average.\n",
      "\n"
     ]
    },
    {
     "data": {
      "image/png": "[encoded data removed]",
      "text/plain": [
       "<Figure size 432x288 with 1 Axes>"
      ]
     },
     "metadata": {
      "needs_background": "light"
     },
     "output_type": "display_data"
    },
    {
     "name": "stdout",
     "output_type": "stream",
     "text": [
      "data/nonconvex_ring.npy\n"
     ]
    }
   ],
   "source": [
    "topology = \"ring\"\n",
    "lr = 1e-1\n",
    "threshold = 1e-3\n",
    "\n",
    "means, results = experiment(num_nodes, n_params, topology, func_type, max_iter, lr, threshold, number_exp)\n",
    "\n",
    "plotIter(num_nodes, means)\n",
    "\n",
    "filename = save_folder + func_type.replace(\" \", \"\") + \"_\" + topology + \".npy\"\n",
    "print(filename)\n",
    "\n",
    "with open(filename, 'wb') as f:\n",
    "    np.save(f, results)"
   ]
  },
  {
   "cell_type": "code",
   "execution_count": 7,
   "id": "aad57c3c-8bcd-4387-b51b-a138f6d19237",
   "metadata": {},
   "outputs": [
    {
     "name": "stdout",
     "output_type": "stream",
     "text": [
      "Starting experiment on 2 nodes.\n",
      "DEBUG num.nides 2 time 14.029358863830566\n",
      "Converged within 0.001 in 30447.8 iterations on average.\n",
      "\n",
      "Starting experiment on 10 nodes.\n",
      "DEBUG num.nides 10 time 13.19857406616211\n",
      "Converged within 0.001 in 29922.2 iterations on average.\n",
      "\n",
      "Starting experiment on 50 nodes.\n",
      "DEBUG num.nides 50 time 15.637509107589722\n",
      "Converged within 0.001 in 29815.6 iterations on average.\n",
      "\n",
      "Starting experiment on 100 nodes.\n",
      "DEBUG num.nides 100 time 18.733776092529297\n",
      "Converged within 0.001 in 29804.8 iterations on average.\n",
      "\n",
      "Starting experiment on 300 nodes.\n",
      "DEBUG num.nides 300 time 43.439895153045654\n",
      "Converged within 0.001 in 29795.8 iterations on average.\n",
      "\n",
      "Starting experiment on 600 nodes.\n",
      "DEBUG num.nides 600 time 118.82176518440247\n",
      "Converged within 0.001 in 29794.0 iterations on average.\n",
      "\n",
      "Starting experiment on 1000 nodes.\n",
      "DEBUG num.nides 1000 time 267.79574275016785\n",
      "Converged within 0.001 in 29792.8 iterations on average.\n",
      "\n"
     ]
    },
    {
     "data": {
      "image/png": "[encoded data removed]",
      "text/plain": [
       "<Figure size 432x288 with 1 Axes>"
      ]
     },
     "metadata": {
      "needs_background": "light"
     },
     "output_type": "display_data"
    },
    {
     "name": "stdout",
     "output_type": "stream",
     "text": [
      "data/nonconvex_centralized.npy\n"
     ]
    }
   ],
   "source": [
    "topology = \"centralized\"\n",
    "lr = 1e-1\n",
    "threshold = 1e-3\n",
    "\n",
    "means, results = experiment(num_nodes, n_params, topology, func_type, max_iter, lr, threshold, number_exp)\n",
    "\n",
    "plotIter(num_nodes, means)\n",
    "\n",
    "filename = save_folder + func_type.replace(\" \", \"\") + \"_\" + topology + \".npy\"\n",
    "print(filename)\n",
    "\n",
    "with open(filename, 'wb') as f:\n",
    "    np.save(f, results)"
   ]
  },
  {
   "cell_type": "markdown",
   "id": "f25a1f65-640a-463a-8eee-a0d3bf8e7e3e",
   "metadata": {
    "tags": []
   },
   "source": [
    "## Convex function"
   ]
  },
  {
   "cell_type": "code",
   "execution_count": 8,
   "id": "9185b592-76f5-48b2-b75b-456dbda6dc13",
   "metadata": {},
   "outputs": [],
   "source": [
    "func_type = \"convex\""
   ]
  },
  {
   "cell_type": "code",
   "execution_count": 9,
   "id": "1b958dee-5ead-48ac-beb5-f5910797bba7",
   "metadata": {},
   "outputs": [
    {
     "name": "stdout",
     "output_type": "stream",
     "text": [
      "Starting experiment on 2 nodes.\n",
      "DEBUG num.nides 2 time 16.807188034057617\n",
      "Converged within 0.01 in 8376.2 iterations on average.\n",
      "\n",
      "Starting experiment on 10 nodes.\n",
      "DEBUG num.nides 10 time 34.99093770980835\n",
      "Converged within 0.01 in 8375.8 iterations on average.\n",
      "\n",
      "Starting experiment on 50 nodes.\n",
      "DEBUG num.nides 50 time 123.8746349811554\n",
      "Converged within 0.01 in 8374.4 iterations on average.\n",
      "\n",
      "Starting experiment on 100 nodes.\n",
      "DEBUG num.nides 100 time 233.78304409980774\n",
      "Converged within 0.01 in 8374.2 iterations on average.\n",
      "\n",
      "Starting experiment on 300 nodes.\n",
      "DEBUG num.nides 300 time 794.8965640068054\n",
      "Converged within 0.01 in 8374.0 iterations on average.\n",
      "\n",
      "Starting experiment on 600 nodes.\n",
      "DEBUG num.nides 600 time 1579.3844258785248\n",
      "Converged within 0.01 in 8374.0 iterations on average.\n",
      "\n",
      "Starting experiment on 1000 nodes.\n",
      "DEBUG num.nides 1000 time 2627.510699033737\n",
      "Converged within 0.01 in 8374.0 iterations on average.\n",
      "\n"
     ]
    },
    {
     "data": {
      "image/png": "[encoded data removed]",
      "text/plain": [
       "<Figure size 432x288 with 1 Axes>"
      ]
     },
     "metadata": {
      "needs_background": "light"
     },
     "output_type": "display_data"
    },
    {
     "name": "stdout",
     "output_type": "stream",
     "text": [
      "data/convex_dense.npy\n"
     ]
    }
   ],
   "source": [
    "topology = \"dense\"\n",
    "lr = 1e-1\n",
    "threshold = 1e-2\n",
    "\n",
    "means, results = experiment(num_nodes, n_params, topology, func_type, max_iter, lr, threshold, number_exp)\n",
    "\n",
    "plotIter(num_nodes, means)\n",
    "\n",
    "filename = save_folder + func_type.replace(\" \", \"\") + \"_\" + topology + \".npy\"\n",
    "print(filename)\n",
    "\n",
    "with open(filename, 'wb') as f:\n",
    "    np.save(f, results)"
   ]
  },
  {
   "cell_type": "code",
   "execution_count": 10,
   "id": "828534b1-833c-433b-9153-0c25c618873d",
   "metadata": {},
   "outputs": [
    {
     "name": "stdout",
     "output_type": "stream",
     "text": [
      "Starting experiment on 2 nodes.\n",
      "DEBUG num.nides 2 time 25.651336908340454\n",
      "Converged within 0.01 in 13100.4 iterations on average.\n",
      "\n",
      "Starting experiment on 10 nodes.\n",
      "DEBUG num.nides 10 time 54.4855318069458\n",
      "Converged within 0.01 in 13098.4 iterations on average.\n",
      "\n",
      "Starting experiment on 50 nodes.\n",
      "DEBUG num.nides 50 time 193.311781167984\n",
      "Converged within 0.01 in 13098.0 iterations on average.\n",
      "\n",
      "Starting experiment on 100 nodes.\n",
      "DEBUG num.nides 100 time 364.6778748035431\n",
      "Converged within 0.01 in 13098.0 iterations on average.\n",
      "\n",
      "Starting experiment on 300 nodes.\n",
      "DEBUG num.nides 300 time 1224.7800388336182\n",
      "Converged within 0.01 in 13098.0 iterations on average.\n",
      "\n",
      "Starting experiment on 600 nodes.\n",
      "DEBUG num.nides 600 time 2468.197126865387\n",
      "Converged within 0.01 in 13097.6 iterations on average.\n",
      "\n",
      "Starting experiment on 1000 nodes.\n",
      "DEBUG num.nides 1000 time 4157.85467171669\n",
      "Converged within 0.01 in 13098.0 iterations on average.\n",
      "\n"
     ]
    },
    {
     "data": {
      "image/png": "[encoded data removed]",
      "text/plain": [
       "<Figure size 432x288 with 1 Axes>"
      ]
     },
     "metadata": {
      "needs_background": "light"
     },
     "output_type": "display_data"
    },
    {
     "name": "stdout",
     "output_type": "stream",
     "text": [
      "data/convex_ring.npy\n"
     ]
    }
   ],
   "source": [
    "topology = \"ring\"\n",
    "lr = 1e-1\n",
    "threshold = 1e-2\n",
    "\n",
    "means, results = experiment(num_nodes, n_params, topology, func_type, max_iter, lr, threshold, number_exp)\n",
    "\n",
    "plotIter(num_nodes, means)\n",
    "\n",
    "filename = save_folder + func_type.replace(\" \", \"\") + \"_\" + topology + \".npy\"\n",
    "print(filename)\n",
    "\n",
    "with open(filename, 'wb') as f:\n",
    "    np.save(f, results)"
   ]
  },
  {
   "cell_type": "code",
   "execution_count": 11,
   "id": "85819ab2-eb3c-401e-acdc-c8ac08b9285f",
   "metadata": {},
   "outputs": [
    {
     "name": "stdout",
     "output_type": "stream",
     "text": [
      "Starting experiment on 2 nodes.\n",
      "DEBUG num.nides 2 time 37.298282861709595\n",
      "Converged within 0.01 in 19075.6 iterations on average.\n",
      "\n",
      "Starting experiment on 10 nodes.\n",
      "DEBUG num.nides 10 time 79.45951819419861\n",
      "Converged within 0.01 in 19068.8 iterations on average.\n",
      "\n",
      "Starting experiment on 50 nodes.\n",
      "DEBUG num.nides 50 time 281.58321380615234\n",
      "Converged within 0.01 in 19068.0 iterations on average.\n",
      "\n",
      "Starting experiment on 100 nodes.\n",
      "DEBUG num.nides 100 time 530.9267902374268\n",
      "Converged within 0.01 in 19068.4 iterations on average.\n",
      "\n",
      "Starting experiment on 300 nodes.\n",
      "DEBUG num.nides 300 time 1738.0967559814453\n",
      "Converged within 0.01 in 19068.0 iterations on average.\n",
      "\n",
      "Starting experiment on 600 nodes.\n"
     ]
    },
    {
     "ename": "KeyboardInterrupt",
     "evalue": "",
     "output_type": "error",
     "traceback": [
      "\u001b[0;31m---------------------------------------------------------------------------\u001b[0m",
      "\u001b[0;31mKeyboardInterrupt\u001b[0m                         Traceback (most recent call last)",
      "Input \u001b[0;32mIn [11]\u001b[0m, in \u001b[0;36m<cell line: 5>\u001b[0;34m()\u001b[0m\n\u001b[1;32m      2\u001b[0m lr \u001b[38;5;241m=\u001b[39m \u001b[38;5;241m1e-1\u001b[39m\n\u001b[1;32m      3\u001b[0m threshold \u001b[38;5;241m=\u001b[39m \u001b[38;5;241m1e-2\u001b[39m\n\u001b[0;32m----> 5\u001b[0m means, results \u001b[38;5;241m=\u001b[39m \u001b[43mexperiment\u001b[49m\u001b[43m(\u001b[49m\u001b[43mnum_nodes\u001b[49m\u001b[43m,\u001b[49m\u001b[43m \u001b[49m\u001b[43mn_params\u001b[49m\u001b[43m,\u001b[49m\u001b[43m \u001b[49m\u001b[43mtopology\u001b[49m\u001b[43m,\u001b[49m\u001b[43m \u001b[49m\u001b[43mfunc_type\u001b[49m\u001b[43m,\u001b[49m\u001b[43m \u001b[49m\u001b[43mmax_iter\u001b[49m\u001b[43m,\u001b[49m\u001b[43m \u001b[49m\u001b[43mlr\u001b[49m\u001b[43m,\u001b[49m\u001b[43m \u001b[49m\u001b[43mthreshold\u001b[49m\u001b[43m,\u001b[49m\u001b[43m \u001b[49m\u001b[43mnumber_exp\u001b[49m\u001b[43m)\u001b[49m\n\u001b[1;32m      7\u001b[0m plotIter(num_nodes, means)\n\u001b[1;32m      9\u001b[0m filename \u001b[38;5;241m=\u001b[39m save_folder \u001b[38;5;241m+\u001b[39m func_type\u001b[38;5;241m.\u001b[39mreplace(\u001b[38;5;124m\"\u001b[39m\u001b[38;5;124m \u001b[39m\u001b[38;5;124m\"\u001b[39m, \u001b[38;5;124m\"\u001b[39m\u001b[38;5;124m\"\u001b[39m) \u001b[38;5;241m+\u001b[39m \u001b[38;5;124m\"\u001b[39m\u001b[38;5;124m_\u001b[39m\u001b[38;5;124m\"\u001b[39m \u001b[38;5;241m+\u001b[39m topology \u001b[38;5;241m+\u001b[39m \u001b[38;5;124m\"\u001b[39m\u001b[38;5;124m.npy\u001b[39m\u001b[38;5;124m\"\u001b[39m\n",
      "Input \u001b[0;32mIn [2]\u001b[0m, in \u001b[0;36mexperiment\u001b[0;34m(list_nodes, n_params, topology, func_type, max_iter, lr, error_threshold, number_exp)\u001b[0m\n\u001b[1;32m    133\u001b[0m     x0 \u001b[38;5;241m=\u001b[39m np\u001b[38;5;241m.\u001b[39mones((n_params, n_nodes))\u001b[38;5;241m.\u001b[39mastype(np\u001b[38;5;241m.\u001b[39mfloat64) \u001b[38;5;66;03m#np.random.randn(n_params, n_nodes)\u001b[39;00m\n\u001b[1;32m    134\u001b[0m     W \u001b[38;5;241m=\u001b[39m buildTopology(n_nodes, topology)\n\u001b[0;32m--> 136\u001b[0m     x_t, itr, errors \u001b[38;5;241m=\u001b[39m \u001b[43mdecentralizedSGD\u001b[49m\u001b[43m(\u001b[49m\u001b[43mx0\u001b[49m\u001b[43m,\u001b[49m\u001b[43m \u001b[49m\u001b[43mlr\u001b[49m\u001b[43m,\u001b[49m\u001b[43m \u001b[49m\u001b[43mmax_iter\u001b[49m\u001b[43m,\u001b[49m\u001b[43m \u001b[49m\u001b[43merror_threshold\u001b[49m\u001b[43m,\u001b[49m\u001b[43m \u001b[49m\u001b[43mW\u001b[49m\u001b[43m,\u001b[49m\u001b[43m \u001b[49m\u001b[43moracle\u001b[49m\u001b[43m)\u001b[49m\n\u001b[1;32m    138\u001b[0m     temp\u001b[38;5;241m.\u001b[39mappend(itr)\n\u001b[1;32m    140\u001b[0m mean \u001b[38;5;241m=\u001b[39m np\u001b[38;5;241m.\u001b[39mmean(temp)\n",
      "Input \u001b[0;32mIn [2]\u001b[0m, in \u001b[0;36mdecentralizedSGD\u001b[0;34m(x0, lr, max_iter, eps, W, oracle)\u001b[0m\n\u001b[1;32m     14\u001b[0m \u001b[38;5;28;01mwhile\u001b[39;00m (itr \u001b[38;5;241m<\u001b[39m max_iter) \u001b[38;5;129;01mand\u001b[39;00m (error \u001b[38;5;241m>\u001b[39m eps):\n\u001b[1;32m     16\u001b[0m     noise \u001b[38;5;241m=\u001b[39m np\u001b[38;5;241m.\u001b[39mrandom\u001b[38;5;241m.\u001b[39mnormal(\u001b[38;5;241m0\u001b[39m, \u001b[38;5;241m1\u001b[39m, size\u001b[38;5;241m=\u001b[39mx_t\u001b[38;5;241m.\u001b[39mshape) \u001b[38;5;241m/\u001b[39m \u001b[38;5;241m100\u001b[39m\n\u001b[0;32m---> 18\u001b[0m     f, df \u001b[38;5;241m=\u001b[39m \u001b[43moracle\u001b[49m\u001b[43m(\u001b[49m\u001b[43mx_t\u001b[49m\u001b[43m \u001b[49m\u001b[38;5;241;43m+\u001b[39;49m\u001b[43m \u001b[49m\u001b[43mnoise\u001b[49m\u001b[43m)\u001b[49m\n\u001b[1;32m     20\u001b[0m     x_prev \u001b[38;5;241m=\u001b[39m x_t\n\u001b[1;32m     22\u001b[0m     y_t \u001b[38;5;241m=\u001b[39m x_t \u001b[38;5;241m-\u001b[39m lr \u001b[38;5;241m*\u001b[39m df\n",
      "File \u001b[0;32m~/Desktop/MA4/Optim for ML/OptML/oracle.py:49\u001b[0m, in \u001b[0;36mOracle.__call__\u001b[0;34m(self, x)\u001b[0m\n\u001b[1;32m     48\u001b[0m \u001b[38;5;28;01mdef\u001b[39;00m \u001b[38;5;21m__call__\u001b[39m(\u001b[38;5;28mself\u001b[39m, x):\n\u001b[0;32m---> 49\u001b[0m     \u001b[38;5;28;01mreturn\u001b[39;00m \u001b[38;5;28;43mself\u001b[39;49m\u001b[38;5;241;43m.\u001b[39;49m\u001b[43mfunc\u001b[49m\u001b[43m(\u001b[49m\u001b[43mx\u001b[49m\u001b[43m)\u001b[49m\n",
      "File \u001b[0;32m~/Desktop/MA4/Optim for ML/OptML/oracle.py:27\u001b[0m, in \u001b[0;36mOracle.__init__.<locals>.<lambda>\u001b[0;34m(X)\u001b[0m\n\u001b[1;32m     24\u001b[0m f \u001b[38;5;241m=\u001b[39m \u001b[38;5;28;01mlambda\u001b[39;00m col: \u001b[38;5;241m0.5\u001b[39m \u001b[38;5;241m*\u001b[39m np\u001b[38;5;241m.\u001b[39mpower(np\u001b[38;5;241m.\u001b[39mlinalg\u001b[38;5;241m.\u001b[39mnorm(np\u001b[38;5;241m.\u001b[39mexpand_dims(col, axis\u001b[38;5;241m=\u001b[39m\u001b[38;5;241m1\u001b[39m) \u001b[38;5;241m*\u001b[39m a \u001b[38;5;241m-\u001b[39m y, \u001b[38;5;241m2\u001b[39m), \u001b[38;5;241m2\u001b[39m)    \n\u001b[1;32m     25\u001b[0m df \u001b[38;5;241m=\u001b[39m \u001b[38;5;28;01mlambda\u001b[39;00m col: np\u001b[38;5;241m.\u001b[39msqueeze(a \u001b[38;5;241m*\u001b[39m (np\u001b[38;5;241m.\u001b[39mexpand_dims(col, axis\u001b[38;5;241m=\u001b[39m\u001b[38;5;241m1\u001b[39m) \u001b[38;5;241m*\u001b[39m a \u001b[38;5;241m-\u001b[39m y), axis\u001b[38;5;241m=\u001b[39m\u001b[38;5;241m1\u001b[39m)\n\u001b[0;32m---> 27\u001b[0m \u001b[38;5;28mself\u001b[39m\u001b[38;5;241m.\u001b[39mfunc \u001b[38;5;241m=\u001b[39m \u001b[38;5;28;01mlambda\u001b[39;00m X: (\u001b[43mnp\u001b[49m\u001b[38;5;241;43m.\u001b[39;49m\u001b[43mapply_along_axis\u001b[49m\u001b[43m(\u001b[49m\u001b[43mf\u001b[49m\u001b[43m,\u001b[49m\u001b[43m \u001b[49m\u001b[38;5;241;43m0\u001b[39;49m\u001b[43m,\u001b[49m\u001b[43m \u001b[49m\u001b[43mX\u001b[49m\u001b[43m)\u001b[49m, np\u001b[38;5;241m.\u001b[39mapply_along_axis(df, \u001b[38;5;241m0\u001b[39m, X))\n\u001b[1;32m     29\u001b[0m \u001b[38;5;28mself\u001b[39m\u001b[38;5;241m.\u001b[39mx_star \u001b[38;5;241m=\u001b[39m y \u001b[38;5;241m/\u001b[39m a\n\u001b[1;32m     30\u001b[0m \u001b[38;5;28mself\u001b[39m\u001b[38;5;241m.\u001b[39mf_star \u001b[38;5;241m=\u001b[39m \u001b[38;5;241m0.\u001b[39m\n",
      "File \u001b[0;32m<__array_function__ internals>:5\u001b[0m, in \u001b[0;36mapply_along_axis\u001b[0;34m(*args, **kwargs)\u001b[0m\n",
      "File \u001b[0;32m/usr/local/lib/python3.9/site-packages/numpy/lib/shape_base.py:402\u001b[0m, in \u001b[0;36mapply_along_axis\u001b[0;34m(func1d, axis, arr, *args, **kwargs)\u001b[0m\n\u001b[1;32m    400\u001b[0m buff[ind0] \u001b[38;5;241m=\u001b[39m res\n\u001b[1;32m    401\u001b[0m \u001b[38;5;28;01mfor\u001b[39;00m ind \u001b[38;5;129;01min\u001b[39;00m inds:\n\u001b[0;32m--> 402\u001b[0m     buff[ind] \u001b[38;5;241m=\u001b[39m asanyarray(\u001b[43mfunc1d\u001b[49m\u001b[43m(\u001b[49m\u001b[43minarr_view\u001b[49m\u001b[43m[\u001b[49m\u001b[43mind\u001b[49m\u001b[43m]\u001b[49m\u001b[43m,\u001b[49m\u001b[43m \u001b[49m\u001b[38;5;241;43m*\u001b[39;49m\u001b[43margs\u001b[49m\u001b[43m,\u001b[49m\u001b[43m \u001b[49m\u001b[38;5;241;43m*\u001b[39;49m\u001b[38;5;241;43m*\u001b[39;49m\u001b[43mkwargs\u001b[49m\u001b[43m)\u001b[49m)\n\u001b[1;32m    404\u001b[0m \u001b[38;5;28;01mif\u001b[39;00m \u001b[38;5;129;01mnot\u001b[39;00m \u001b[38;5;28misinstance\u001b[39m(res, matrix):\n\u001b[1;32m    405\u001b[0m     \u001b[38;5;66;03m# wrap the array, to preserve subclasses\u001b[39;00m\n\u001b[1;32m    406\u001b[0m     buff \u001b[38;5;241m=\u001b[39m res\u001b[38;5;241m.\u001b[39m__array_wrap__(buff)\n",
      "File \u001b[0;32m~/Desktop/MA4/Optim for ML/OptML/oracle.py:24\u001b[0m, in \u001b[0;36mOracle.__init__.<locals>.<lambda>\u001b[0;34m(col)\u001b[0m\n\u001b[1;32m     22\u001b[0m a \u001b[38;5;241m=\u001b[39m \u001b[38;5;241m0.75\u001b[39m\n\u001b[1;32m     23\u001b[0m y \u001b[38;5;241m=\u001b[39m np\u001b[38;5;241m.\u001b[39mrandom\u001b[38;5;241m.\u001b[39muniform(\u001b[38;5;241m0\u001b[39m, \u001b[38;5;241m5\u001b[39m, (\u001b[38;5;28mself\u001b[39m\u001b[38;5;241m.\u001b[39mn_params, \u001b[38;5;241m1\u001b[39m))\n\u001b[0;32m---> 24\u001b[0m f \u001b[38;5;241m=\u001b[39m \u001b[38;5;28;01mlambda\u001b[39;00m col: \u001b[38;5;241m0.5\u001b[39m \u001b[38;5;241m*\u001b[39m \u001b[43mnp\u001b[49m\u001b[38;5;241;43m.\u001b[39;49m\u001b[43mpower\u001b[49m\u001b[43m(\u001b[49m\u001b[43mnp\u001b[49m\u001b[38;5;241;43m.\u001b[39;49m\u001b[43mlinalg\u001b[49m\u001b[38;5;241;43m.\u001b[39;49m\u001b[43mnorm\u001b[49m\u001b[43m(\u001b[49m\u001b[43mnp\u001b[49m\u001b[38;5;241;43m.\u001b[39;49m\u001b[43mexpand_dims\u001b[49m\u001b[43m(\u001b[49m\u001b[43mcol\u001b[49m\u001b[43m,\u001b[49m\u001b[43m \u001b[49m\u001b[43maxis\u001b[49m\u001b[38;5;241;43m=\u001b[39;49m\u001b[38;5;241;43m1\u001b[39;49m\u001b[43m)\u001b[49m\u001b[43m \u001b[49m\u001b[38;5;241;43m*\u001b[39;49m\u001b[43m \u001b[49m\u001b[43ma\u001b[49m\u001b[43m \u001b[49m\u001b[38;5;241;43m-\u001b[39;49m\u001b[43m \u001b[49m\u001b[43my\u001b[49m\u001b[43m,\u001b[49m\u001b[43m \u001b[49m\u001b[38;5;241;43m2\u001b[39;49m\u001b[43m)\u001b[49m\u001b[43m,\u001b[49m\u001b[43m \u001b[49m\u001b[38;5;241;43m2\u001b[39;49m\u001b[43m)\u001b[49m    \n\u001b[1;32m     25\u001b[0m df \u001b[38;5;241m=\u001b[39m \u001b[38;5;28;01mlambda\u001b[39;00m col: np\u001b[38;5;241m.\u001b[39msqueeze(a \u001b[38;5;241m*\u001b[39m (np\u001b[38;5;241m.\u001b[39mexpand_dims(col, axis\u001b[38;5;241m=\u001b[39m\u001b[38;5;241m1\u001b[39m) \u001b[38;5;241m*\u001b[39m a \u001b[38;5;241m-\u001b[39m y), axis\u001b[38;5;241m=\u001b[39m\u001b[38;5;241m1\u001b[39m)\n\u001b[1;32m     27\u001b[0m \u001b[38;5;28mself\u001b[39m\u001b[38;5;241m.\u001b[39mfunc \u001b[38;5;241m=\u001b[39m \u001b[38;5;28;01mlambda\u001b[39;00m X: (np\u001b[38;5;241m.\u001b[39mapply_along_axis(f, \u001b[38;5;241m0\u001b[39m, X), np\u001b[38;5;241m.\u001b[39mapply_along_axis(df, \u001b[38;5;241m0\u001b[39m, X))\n",
      "\u001b[0;31mKeyboardInterrupt\u001b[0m: "
     ]
    }
   ],
   "source": [
    "topology = \"centralized\"\n",
    "lr = 1e-1\n",
    "threshold = 1e-2\n",
    "\n",
    "means, results = experiment(num_nodes, n_params, topology, func_type, max_iter, lr, threshold, number_exp)\n",
    "\n",
    "plotIter(num_nodes, means)\n",
    "\n",
    "filename = save_folder + func_type.replace(\" \", \"\") + \"_\" + topology + \".npy\"\n",
    "print(filename)\n",
    "\n",
    "with open(filename, 'wb') as f:\n",
    "    np.save(f, results)"
   ]
  },
  {
   "cell_type": "markdown",
   "id": "da1427d6-04c5-4c02-b284-591ab4131288",
   "metadata": {
    "tags": []
   },
   "source": [
    "## Strongly convex function"
   ]
  },
  {
   "cell_type": "code",
   "execution_count": null,
   "id": "f13c4a35-f9cc-406f-b6b8-ed6a5f9149fa",
   "metadata": {},
   "outputs": [],
   "source": [
    "func_type = \"convex\""
   ]
  },
  {
   "cell_type": "code",
   "execution_count": null,
   "id": "d9a66a6f-dcb5-42f6-87d5-2999afd3ea47",
   "metadata": {},
   "outputs": [],
   "source": [
    "topology = \"dense\"\n",
    "lr = 1e-1\n",
    "threshold = 1e-2\n",
    "\n",
    "means, results = experiment(num_nodes, n_params, topology, func_type, max_iter, lr, threshold, number_exp)\n",
    "\n",
    "plotIter(num_nodes, means)\n",
    "\n",
    "filename = save_folder + func_type.replace(\" \", \"\") + \"_\" + topology + \".npy\"\n",
    "print(filename)\n",
    "\n",
    "with open(filename, 'wb') as f:\n",
    "    np.save(f, results)"
   ]
  },
  {
   "cell_type": "code",
   "execution_count": null,
   "id": "50a50030-3ff6-4d9d-b19d-849cfdf21802",
   "metadata": {},
   "outputs": [],
   "source": [
    "topology = \"ring\"\n",
    "lr = 1e-1\n",
    "threshold = 1e-2\n",
    "\n",
    "means, results = experiment(num_nodes, n_params, topology, func_type, max_iter, lr, threshold, number_exp)\n",
    "\n",
    "plotIter(num_nodes, means)\n",
    "\n",
    "filename = save_folder + func_type.replace(\" \", \"\") + \"_\" + topology + \".npy\"\n",
    "print(filename)\n",
    "\n",
    "with open(filename, 'wb') as f:\n",
    "    np.save(f, results)"
   ]
  },
  {
   "cell_type": "code",
   "execution_count": null,
   "id": "4a18f46e-f54c-40d0-b5d1-53c5c35a888f",
   "metadata": {},
   "outputs": [],
   "source": [
    "topology = \"centralized\"\n",
    "lr = 1e-1\n",
    "threshold = 1e-2\n",
    "\n",
    "means, results = experiment(num_nodes, n_params, topology, func_type, max_iter, lr, threshold, number_exp)\n",
    "\n",
    "plotIter(num_nodes, means)\n",
    "\n",
    "filename = save_folder + func_type.replace(\" \", \"\") + \"_\" + topology + \".npy\"\n",
    "print(filename)\n",
    "\n",
    "with open(filename, 'wb') as f:\n",
    "    np.save(f, results)"
   ]
  }
 ],
 "metadata": {
  "kernelspec": {
   "display_name": "Python 3 (ipykernel)",
   "language": "python",
   "name": "python3"
  },
  "language_info": {
   "codemirror_mode": {
    "name": "ipython",
    "version": 3
   },
   "file_extension": ".py",
   "mimetype": "text/x-python",
   "name": "python",
   "nbconvert_exporter": "python",
   "pygments_lexer": "ipython3",
   "version": "3.9.10"
  }
 },
 "nbformat": 4,
 "nbformat_minor": 5
}
